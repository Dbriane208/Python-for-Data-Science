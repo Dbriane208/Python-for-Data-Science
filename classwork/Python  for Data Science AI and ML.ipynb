{
 "cells": [
  {
   "cell_type": "markdown",
   "id": "4cea5de4",
   "metadata": {},
   "source": [
    "# Data Types and Strings in Python"
   ]
  },
  {
   "cell_type": "markdown",
   "id": "f61fbc22",
   "metadata": {},
   "source": [
    "- Some data types in python include integer, float, string.\n",
    "- Integers are whole numbers, positive or negative numbers.\n",
    "- Float are real numbers, rational or irrational. This means numbers with decimal and fractions eg 12.45\n",
    "- String are the sequences of characters or text, enclosed in quotes."
   ]
  },
  {
   "cell_type": "code",
   "execution_count": 2,
   "id": "8e6efc0c",
   "metadata": {},
   "outputs": [
    {
     "name": "stdout",
     "output_type": "stream",
     "text": [
      "<class 'int'>\n",
      "<class 'str'>\n",
      "<class 'float'>\n"
     ]
    }
   ],
   "source": [
    "# Getting the data type using type function\n",
    "\n",
    "#outputs int\n",
    "value = 45\n",
    "print(type(value))\n",
    "\n",
    "#output string\n",
    "value1 = \"Hello world\"\n",
    "print(type(value1))\n",
    "\n",
    "#output float\n",
    "value2 = 78.90\n",
    "print(type(value2))\n"
   ]
  },
  {
   "cell_type": "markdown",
   "id": "234abdb4",
   "metadata": {},
   "source": [
    "### Strings in Python"
   ]
  },
  {
   "cell_type": "markdown",
   "id": "357b536d",
   "metadata": {},
   "source": [
    "- There are seven sequences types:\n",
    "    - Strings          - Tuples\n",
    "    - Unicode Strings  - Bytearrays\n",
    "    - Lists            - Buffers\n",
    "    - Xrange objects\n",
    "- There is a specific way of defining string in python.\n",
    "- It is defined within single quotes ('') or double (\"\") or even triple quotes ('''''')\n"
   ]
  },
  {
   "cell_type": "markdown",
   "id": "df7f37c0",
   "metadata": {},
   "source": [
    "### Accessing Strings"
   ]
  },
  {
   "cell_type": "code",
   "execution_count": null,
   "id": "743c7396",
   "metadata": {},
   "outputs": [],
   "source": [
    "#The output is letter 'o' since indexing start at 0\n",
    "name = \"John_Doe\"\n",
    "print(name[1])\n",
    "\n",
    "#The output is letter '_' \n",
    "name = \"John_Doe\"\n",
    "print(name[4])\n",
    "\n",
    "#The output is letter 'e' \n",
    "name = \"John_Doe\"\n",
    "print(name[7])"
   ]
  },
  {
   "cell_type": "markdown",
   "id": "f1edf0ae",
   "metadata": {},
   "source": [
    "### String Slicing\n"
   ]
  },
  {
   "cell_type": "code",
   "execution_count": 18,
   "id": "a091af6c",
   "metadata": {},
   "outputs": [
    {
     "name": "stdout",
     "output_type": "stream",
     "text": [
      "The Recolonization\n",
      "Africa is our bussiness\n",
      "Africa\n"
     ]
    }
   ],
   "source": [
    "#We can specify the start and the end separeted by a colon\n",
    "\n",
    "sentence1 = \"The Recolonization of Africa\"\n",
    "print(sentence1[0:18])\n",
    "\n",
    "sentence2 = \"Africa is our bussiness\"\n",
    "print(sentence2[0:23])\n",
    "\n",
    "#Negative indexing\n",
    "#We want to point an item towards the end\n",
    "#We can't start with zero with negative index\n",
    "\n",
    "sentence3 = \"We can solve our problems as Africa\"\n",
    "print(sentence3[-6::])"
   ]
  },
  {
   "cell_type": "markdown",
   "id": "099d5ea2",
   "metadata": {},
   "source": [
    "### String Manipulation"
   ]
  },
  {
   "cell_type": "code",
   "execution_count": 26,
   "id": "f1b31061",
   "metadata": {},
   "outputs": [
    {
     "name": "stdout",
     "output_type": "stream",
     "text": [
      "PLO Lumumba\n"
     ]
    }
   ],
   "source": [
    "#Adding strings together using (+) operator\n",
    "\n",
    "first_name = \"PLO \"\n",
    "second_name = \"Lumumba\"\n",
    "full_name = first_name + second_name\n",
    "print(full_name)"
   ]
  },
  {
   "cell_type": "code",
   "execution_count": 27,
   "id": "9ba0f221",
   "metadata": {},
   "outputs": [
    {
     "name": "stdout",
     "output_type": "stream",
     "text": [
      "28\n"
     ]
    }
   ],
   "source": [
    "#Getting the length of our string using len()\n",
    "\n",
    "sentence1 = \"The Recolonization of Africa\"\n",
    "print(len(sentence1))"
   ]
  },
  {
   "cell_type": "code",
   "execution_count": 28,
   "id": "bca277d7",
   "metadata": {},
   "outputs": [
    {
     "ename": "SyntaxError",
     "evalue": "invalid syntax (2354839820.py, line 4)",
     "output_type": "error",
     "traceback": [
      "\u001b[0;36m  Cell \u001b[0;32mIn[28], line 4\u001b[0;36m\u001b[0m\n\u001b[0;31m    txt1 = \"She said \"Never let go\".\"\u001b[0m\n\u001b[0m                      ^\u001b[0m\n\u001b[0;31mSyntaxError\u001b[0m\u001b[0;31m:\u001b[0m invalid syntax\n"
     ]
    }
   ],
   "source": [
    "#Escaping characters using backslashes\n",
    "\n",
    "#Before slashes\n",
    "#There will be an error\n",
    "\n",
    "txt1 = \"She said \"Never let go\".\"\n",
    "print(txt1)"
   ]
  },
  {
   "cell_type": "code",
   "execution_count": 30,
   "id": "030ecf5a",
   "metadata": {},
   "outputs": [
    {
     "name": "stdout",
     "output_type": "stream",
     "text": [
      "She said \"Never let go\".\n"
     ]
    }
   ],
   "source": [
    "#After slashes\n",
    "\n",
    "txt2 = \"She said \\\"Never let go\\\".\"\n",
    "print(txt2)"
   ]
  },
  {
   "cell_type": "code",
   "execution_count": 33,
   "id": "50fb47b0",
   "metadata": {},
   "outputs": [
    {
     "name": "stdout",
     "output_type": "stream",
     "text": [
      "True\n",
      "False\n"
     ]
    }
   ],
   "source": [
    "#The in syntax\n",
    "#Checks if a character exists in a string\n",
    "\n",
    "game = \"Popular Nintendo Game: Mario Kart\"\n",
    "print(\"l\" in game)\n",
    "print(\"Z\" in game)"
   ]
  },
  {
   "cell_type": "code",
   "execution_count": 39,
   "id": "5ab18e95",
   "metadata": {},
   "outputs": [
    {
     "name": "stdout",
     "output_type": "stream",
     "text": [
      "A\n",
      "f\n",
      "r\n",
      "i\n",
      "c\n",
      "a\n",
      " \n",
      "i\n",
      "s\n",
      " \n",
      "o\n",
      "u\n",
      "r\n",
      " \n",
      "b\n",
      "u\n",
      "s\n",
      "s\n",
      "i\n",
      "n\n",
      "e\n",
      "s\n",
      "s\n"
     ]
    }
   ],
   "source": [
    "#We use for..in to iterate through a string\n",
    "\n",
    "sentence2 = \"Africa is our bussiness\"\n",
    "for character in sentence2:\n",
    "     print(character)"
   ]
  },
  {
   "cell_type": "markdown",
   "id": "a0b57698",
   "metadata": {},
   "source": [
    "### Using the string.format()\n",
    "\n",
    "- It replaces  the empty braces with placeholders in a string using its arguments\n"
   ]
  },
  {
   "cell_type": "code",
   "execution_count": 43,
   "id": "2fbaa06c",
   "metadata": {},
   "outputs": [
    {
     "name": "stdout",
     "output_type": "stream",
     "text": [
      "Fred scored 10 out of 10 points\n",
      "Fred is a good man\n"
     ]
    }
   ],
   "source": [
    "message = \"Fred scored {} out of {} points\"\n",
    "output = message.format(10,10)\n",
    "print(output)\n",
    "\n",
    "subject = \"Fred {verb} a {adjective} man\"\n",
    "sub = subject.format(verb = \"is\",adjective = \"good\")\n",
    "print(sub)"
   ]
  },
  {
   "cell_type": "markdown",
   "id": "1cc147b8",
   "metadata": {},
   "source": [
    "### Using the string.lower() and the string.upper()\n",
    "\n",
    "- It returns a string with all lower case for upper case and vice versa"
   ]
  },
  {
   "cell_type": "code",
   "execution_count": 48,
   "id": "98d4b934",
   "metadata": {},
   "outputs": [
    {
     "name": "stdout",
     "output_type": "stream",
     "text": [
      "the recolonization of africa\n",
      "THE RECOLONIZATION OF AFRICA\n"
     ]
    }
   ],
   "source": [
    "#Using the lower()\n",
    "#The uppercase in sentence1 is returned as lowercase\n",
    "\n",
    "sentence1 = \"The Recolonization of Africa\"\n",
    "sentc =sentence1.lower()\n",
    "print(sentc)\n",
    "\n",
    "#Using the upper()\n",
    "#The lowercase in sentence1 is returned as uppercase\n",
    "\n",
    "sentence1 = \"The Recolonization of Africa\"\n",
    "sentc =sentence1.upper()\n",
    "print(sentc)\n"
   ]
  },
  {
   "cell_type": "markdown",
   "id": "901b2743",
   "metadata": {},
   "source": [
    "### Using the string.strip()\n",
    "\n",
    "- It removes the characters before the beginning and end of a string"
   ]
  },
  {
   "cell_type": "code",
   "execution_count": 60,
   "id": "334b5324",
   "metadata": {},
   "outputs": [
    {
     "name": "stdout",
     "output_type": "stream",
     "text": [
      "The Recolonization of Africa\n"
     ]
    }
   ],
   "source": [
    "#It removes the space before and the end of the string\n",
    "\n",
    "sentence1 = \"   The Recolonization of Africa \"\n",
    "new = sentence1.strip()\n",
    "print(new)"
   ]
  },
  {
   "cell_type": "markdown",
   "id": "076e6e1b",
   "metadata": {},
   "source": [
    "### Using the string.title()\n",
    "\n",
    "- It changes the first letter of the letter to a capital letter and the rest is lower case"
   ]
  },
  {
   "cell_type": "code",
   "execution_count": 62,
   "id": "756d8f9d",
   "metadata": {},
   "outputs": [
    {
     "name": "stdout",
     "output_type": "stream",
     "text": [
      "The Recolonization Of Africa\n"
     ]
    }
   ],
   "source": [
    "#It returns the title case\n",
    "new_val = \"the recolonization of africa\"\n",
    "new = new_val.title()\n",
    "print(new)"
   ]
  },
  {
   "cell_type": "markdown",
   "id": "ae58b59a",
   "metadata": {},
   "source": [
    "### Using the string.split()\n",
    "\n",
    "- It splits a string into a list of items\n",
    "- If no arguments is passed, the default behaviour is to split on whitespace\n",
    "- If an argument is passed it is used as a delimiter on which the split will happen."
   ]
  },
  {
   "cell_type": "code",
   "execution_count": 64,
   "id": "a43be216",
   "metadata": {},
   "outputs": [
    {
     "name": "stdout",
     "output_type": "stream",
     "text": [
      "['The', 'Recolonization', 'of', 'Africa']\n",
      "['The Recolonization of Africa ', ' Making Africa work']\n"
     ]
    }
   ],
   "source": [
    "# splitting without the default argument\n",
    "# Using the spaces as the delimiter\n",
    "\n",
    "sentence1 = \"The Recolonization of Africa\"\n",
    "new = sentence1.split()\n",
    "print(new)\n",
    "\n",
    "# Splitting with an argument\n",
    "# Using the and as our delimiter\n",
    "\n",
    "sentence1 = \"The Recolonization of Africa and Making Africa work\"\n",
    "new = sentence1.split(\"and\")\n",
    "print(new)\n"
   ]
  },
  {
   "cell_type": "markdown",
   "id": "da66f1ad",
   "metadata": {},
   "source": [
    "### Using the string.replace()\n",
    "\n",
    "- It replaces the occurrence of the first argument with the second argument within the string"
   ]
  },
  {
   "cell_type": "code",
   "execution_count": 66,
   "id": "1894b34b",
   "metadata": {},
   "outputs": [
    {
     "name": "stdout",
     "output_type": "stream",
     "text": [
      "The Recolonization of Africa, Decolonization ,Making Africa work\n"
     ]
    }
   ],
   "source": [
    "sentence1 = \"The Recolonization of Africa, and ,Making Africa work\"\n",
    "new = sentence1.replace(\"and\",\"Decolonization\")\n",
    "print(new)\n"
   ]
  },
  {
   "cell_type": "markdown",
   "id": "40b8984b",
   "metadata": {},
   "source": [
    "### Using the string.join()\n",
    "\n",
    "- It concatenates a list of strings together to create a new string joined by a delimeter of choice"
   ]
  },
  {
   "cell_type": "code",
   "execution_count": 68,
   "id": "6b78b399",
   "metadata": {},
   "outputs": [
    {
     "name": "stdout",
     "output_type": "stream",
     "text": [
      "Code cademy--AI planet--Dekut\n"
     ]
    }
   ],
   "source": [
    "# We pass the delimeter of our choice\n",
    "\n",
    "new_val = [\"Code cademy\", \"AI planet\",\"Dekut\"]\n",
    "new = \"--\".join(new_val)\n",
    "print(new)"
   ]
  },
  {
   "cell_type": "markdown",
   "id": "86649c3d",
   "metadata": {},
   "source": [
    "## Lists in Python\n",
    "\n",
    "- Lists is an ordered sequence of data\n",
    "- They are declared using square brackets\n",
    "- List are mutable"
   ]
  },
  {
   "cell_type": "markdown",
   "id": "7485611f",
   "metadata": {},
   "source": [
    "### List Methods"
   ]
  },
  {
   "cell_type": "code",
   "execution_count": 75,
   "id": "459fcdbf",
   "metadata": {},
   "outputs": [
    {
     "name": "stdout",
     "output_type": "stream",
     "text": [
      "['Mangoes', 'Pineapple', 'Banana', 'Apple', 'Kiwi']\n",
      "3\n",
      "8\n",
      "[1, 2, 2, 4, 9, 12, 34, 56, 67, 67, 78, 89, 90, 123]\n"
     ]
    }
   ],
   "source": [
    "# We can use .append() method to add something new to a list\n",
    "\n",
    "fruits = [\"Mangoes\",\"Pineapple\",\"Banana\",\"Apple\"]\n",
    "fruits.append(\"Kiwi\")\n",
    "print(fruits)\n",
    "\n",
    "# We can use .count()  to get the number of occurrences of an item in a list\n",
    "\n",
    "fruits = [\"Mangoes\",\"Pineapple\",\"Banana\",\"Apple\",\"Pineapple\",\"Pineapple\",\"Ovacado\",\"Kiwi\"]\n",
    "new_list = fruits.count(\"Pineapple\")\n",
    "print(new_list)\n",
    "\n",
    "#We can use .len() also get the number of items in a list \n",
    "\n",
    "fruits = [\"Mangoes\",\"Pineapple\",\"Banana\",\"Apple\",\"Pineapple\",\"Pineapple\",\"Ovacado\",\"Kiwi\"]\n",
    "print(len(fruits))\n",
    "\n",
    "#We can order an unordered list contating numerical values in an ascending order\n",
    "\n",
    "values = [78,56,9,12,4,2,67,2,90,123,67,34,1,89]\n",
    "values.sort()\n",
    "print(values)"
   ]
  },
  {
   "cell_type": "markdown",
   "id": "d38cf05e",
   "metadata": {},
   "source": [
    "### Some inbuilt functions in Python\n",
    "\n",
    "- Print() is used to output a statement\n",
    "- Input() is used to get user input to the system\n",
    "- round() is used to round off decimals to the nearest integers\n",
    "- sum()   is used to do addition of a collection of numbers"
   ]
  },
  {
   "cell_type": "code",
   "execution_count": 77,
   "id": "7f2906aa",
   "metadata": {},
   "outputs": [
    {
     "name": "stdout",
     "output_type": "stream",
     "text": [
      "881\n",
      "634\n"
     ]
    }
   ],
   "source": [
    "#Example of a number in decimal\n",
    "\n",
    "#Using round()\n",
    "number = 880.99667\n",
    "new_number = round(number)\n",
    "print(new_number)\n",
    "\n",
    "#Using sum()\n",
    "\n",
    "values = [78,56,9,12,4,2,67,2,90,123,67,34,1,89]\n",
    "new_val = sum(values)\n",
    "print(new_val)"
   ]
  },
  {
   "cell_type": "code",
   "execution_count": null,
   "id": "acea0db4",
   "metadata": {},
   "outputs": [],
   "source": []
  }
 ],
 "metadata": {
  "kernelspec": {
   "display_name": "Python 3 (ipykernel)",
   "language": "python",
   "name": "python3"
  },
  "language_info": {
   "codemirror_mode": {
    "name": "ipython",
    "version": 3
   },
   "file_extension": ".py",
   "mimetype": "text/x-python",
   "name": "python",
   "nbconvert_exporter": "python",
   "pygments_lexer": "ipython3",
   "version": "3.10.9"
  }
 },
 "nbformat": 4,
 "nbformat_minor": 5
}
