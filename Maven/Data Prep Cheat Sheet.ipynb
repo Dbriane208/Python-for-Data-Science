{
 "cells": [
  {
   "cell_type": "markdown",
   "id": "727f69a9",
   "metadata": {},
   "source": [
    "# Introduction\n",
    "\n",
    "- <b>This notebook provides a sample guideline on how you can prepare your raw data from various data sources for Machine Learining and Data analysis.The notebook is more focused on the data preprocessing process. </b>"
   ]
  },
  {
   "cell_type": "markdown",
   "id": "58fadac2",
   "metadata": {},
   "source": [
    "# The Data Science workflow\n",
    "\n",
    "- <b>The data science workflow consists of six major steps which are not linear. This means that depending on your task you will need to go back and forth through this process. </b>\n",
    "- <b>The six steps include:\n",
    "   - Scoping a project\n",
    "   - Gathering Data\n",
    "   - Cleaning Data\n",
    "   - Exploring Data\n",
    "   - Modeling Data\n",
    "   - Sharing Insights </b>"
   ]
  },
  {
   "cell_type": "markdown",
   "id": "947ebc19",
   "metadata": {},
   "source": [
    "# 1. Scoping a project"
   ]
  },
  {
   "cell_type": "markdown",
   "id": "6c1846a5",
   "metadata": {},
   "source": [
    "- <b>It involves clearly defining your objectives you need to achieve given certain datasets. Some of these objectives may include :\n",
    "    - Who are your end users or stakeholders?\n",
    "    - What business problems are you trying to solve?\n",
    "    - Which Machine Learning algorithms are you going to use? </b>\n",
    "- <b>Scoping steps include :\n",
    "    - Think like an end user\n",
    "    - Brainstorm problems and solutions\n",
    "    - Identify data requirements and techniques </b>"
   ]
  },
  {
   "cell_type": "markdown",
   "id": "76df95d1",
   "metadata": {},
   "source": [
    "# 2. Gathering Data"
   ]
  },
  {
   "cell_type": "markdown",
   "id": "f978da4b",
   "metadata": {},
   "source": [
    " - <b> Gathering the right data is essential to set a proper foundation for your analysis. </b>\n",
    " - <b>This process involves :\n",
    "    - Finding the data from data sources eg Local files, Databases, Web access etc\n",
    "    - Reading it into python\n",
    "    - Transforming it if necessary\n",
    "    - Storing the data into Pandas DataFrame </b>"
   ]
  },
  {
   "cell_type": "markdown",
   "id": "4c2a1e97",
   "metadata": {},
   "source": [
    "#### Reading files into python using different file formats"
   ]
  },
  {
   "cell_type": "code",
   "execution_count": 7,
   "id": "ef00ec6a",
   "metadata": {},
   "outputs": [],
   "source": [
    "# Import the Pandas library\n",
    "import pandas as pd"
   ]
  },
  {
   "cell_type": "code",
   "execution_count": 8,
   "id": "cf97b201",
   "metadata": {},
   "outputs": [
    {
     "data": {
      "text/html": [
       "<div>\n",
       "<style scoped>\n",
       "    .dataframe tbody tr th:only-of-type {\n",
       "        vertical-align: middle;\n",
       "    }\n",
       "\n",
       "    .dataframe tbody tr th {\n",
       "        vertical-align: top;\n",
       "    }\n",
       "\n",
       "    .dataframe thead th {\n",
       "        text-align: right;\n",
       "    }\n",
       "</style>\n",
       "<table border=\"1\" class=\"dataframe\">\n",
       "  <thead>\n",
       "    <tr style=\"text-align: right;\">\n",
       "      <th></th>\n",
       "      <th>id</th>\n",
       "      <th>age</th>\n",
       "      <th>gender</th>\n",
       "      <th>height</th>\n",
       "      <th>weight</th>\n",
       "      <th>ap_hi</th>\n",
       "      <th>ap_lo</th>\n",
       "      <th>cholesterol</th>\n",
       "      <th>smoke</th>\n",
       "    </tr>\n",
       "  </thead>\n",
       "  <tbody>\n",
       "    <tr>\n",
       "      <th>0</th>\n",
       "      <td>0</td>\n",
       "      <td>18393</td>\n",
       "      <td>2</td>\n",
       "      <td>168</td>\n",
       "      <td>62.0</td>\n",
       "      <td>110</td>\n",
       "      <td>80</td>\n",
       "      <td>1</td>\n",
       "      <td>0</td>\n",
       "    </tr>\n",
       "    <tr>\n",
       "      <th>1</th>\n",
       "      <td>1</td>\n",
       "      <td>20228</td>\n",
       "      <td>1</td>\n",
       "      <td>156</td>\n",
       "      <td>85.0</td>\n",
       "      <td>140</td>\n",
       "      <td>90</td>\n",
       "      <td>3</td>\n",
       "      <td>0</td>\n",
       "    </tr>\n",
       "    <tr>\n",
       "      <th>2</th>\n",
       "      <td>2</td>\n",
       "      <td>18857</td>\n",
       "      <td>1</td>\n",
       "      <td>165</td>\n",
       "      <td>64.0</td>\n",
       "      <td>130</td>\n",
       "      <td>70</td>\n",
       "      <td>3</td>\n",
       "      <td>0</td>\n",
       "    </tr>\n",
       "  </tbody>\n",
       "</table>\n",
       "</div>"
      ],
      "text/plain": [
       "   id    age  gender  height  weight  ap_hi  ap_lo  cholesterol  smoke\n",
       "0   0  18393       2     168    62.0    110     80            1      0\n",
       "1   1  20228       1     156    85.0    140     90            3      0\n",
       "2   2  18857       1     165    64.0    130     70            3      0"
      ]
     },
     "execution_count": 8,
     "metadata": {},
     "output_type": "execute_result"
    }
   ],
   "source": [
    "# Reading csv formats\n",
    "df_csv = pd.read_csv(\"../Data/cardio_base.csv\")\n",
    "df_csv.head(3)"
   ]
  },
  {
   "cell_type": "code",
   "execution_count": 9,
   "id": "ecfbe99c",
   "metadata": {},
   "outputs": [
    {
     "data": {
      "text/html": [
       "<div>\n",
       "<style scoped>\n",
       "    .dataframe tbody tr th:only-of-type {\n",
       "        vertical-align: middle;\n",
       "    }\n",
       "\n",
       "    .dataframe tbody tr th {\n",
       "        vertical-align: top;\n",
       "    }\n",
       "\n",
       "    .dataframe thead th {\n",
       "        text-align: right;\n",
       "    }\n",
       "</style>\n",
       "<table border=\"1\" class=\"dataframe\">\n",
       "  <thead>\n",
       "    <tr style=\"text-align: right;\">\n",
       "      <th></th>\n",
       "      <th>Product_ID</th>\n",
       "      <th>Category</th>\n",
       "      <th>Item</th>\n",
       "      <th>Price_Dollars</th>\n",
       "      <th>Inventory</th>\n",
       "      <th>Last_Updated</th>\n",
       "      <th>Next_Scheduled_Shipment</th>\n",
       "    </tr>\n",
       "  </thead>\n",
       "  <tbody>\n",
       "    <tr>\n",
       "      <th>0</th>\n",
       "      <td>P100010</td>\n",
       "      <td>Produce: Fruit</td>\n",
       "      <td>Apple</td>\n",
       "      <td>1.5</td>\n",
       "      <td>349</td>\n",
       "      <td>2023-06-12 15:35:00</td>\n",
       "      <td>2023-06-15</td>\n",
       "    </tr>\n",
       "    <tr>\n",
       "      <th>1</th>\n",
       "      <td>P100011</td>\n",
       "      <td>Produce: Fruit</td>\n",
       "      <td>Banana</td>\n",
       "      <td>0.4</td>\n",
       "      <td>500</td>\n",
       "      <td>2023-06-12 18:30:00</td>\n",
       "      <td>2023-06-15</td>\n",
       "    </tr>\n",
       "    <tr>\n",
       "      <th>2</th>\n",
       "      <td>P100012</td>\n",
       "      <td>Produce: Fruit</td>\n",
       "      <td>Grapes</td>\n",
       "      <td>4.0</td>\n",
       "      <td>200</td>\n",
       "      <td>2023-06-12 17:22:00</td>\n",
       "      <td>2023-06-15</td>\n",
       "    </tr>\n",
       "  </tbody>\n",
       "</table>\n",
       "</div>"
      ],
      "text/plain": [
       "  Product_ID        Category    Item  Price_Dollars  Inventory  \\\n",
       "0    P100010  Produce: Fruit   Apple            1.5        349   \n",
       "1    P100011  Produce: Fruit  Banana            0.4        500   \n",
       "2    P100012  Produce: Fruit  Grapes            4.0        200   \n",
       "\n",
       "         Last_Updated Next_Scheduled_Shipment  \n",
       "0 2023-06-12 15:35:00              2023-06-15  \n",
       "1 2023-06-12 18:30:00              2023-06-15  \n",
       "2 2023-06-12 17:22:00              2023-06-15  "
      ]
     },
     "execution_count": 9,
     "metadata": {},
     "output_type": "execute_result"
    }
   ],
   "source": [
    "# Reading excel formats\n",
    "df_excel = pd.read_excel(\"../Data/Groceries.xlsx\")\n",
    "df_excel.head(3)"
   ]
  },
  {
   "cell_type": "code",
   "execution_count": 10,
   "id": "1033866c",
   "metadata": {},
   "outputs": [
    {
     "data": {
      "text/html": [
       "<div>\n",
       "<style scoped>\n",
       "    .dataframe tbody tr th:only-of-type {\n",
       "        vertical-align: middle;\n",
       "    }\n",
       "\n",
       "    .dataframe tbody tr th {\n",
       "        vertical-align: top;\n",
       "    }\n",
       "\n",
       "    .dataframe thead th {\n",
       "        text-align: right;\n",
       "    }\n",
       "</style>\n",
       "<table border=\"1\" class=\"dataframe\">\n",
       "  <thead>\n",
       "    <tr style=\"text-align: right;\">\n",
       "      <th></th>\n",
       "      <th>course_id</th>\n",
       "      <th>course</th>\n",
       "      <th>instructor</th>\n",
       "    </tr>\n",
       "  </thead>\n",
       "  <tbody>\n",
       "    <tr>\n",
       "      <th>0</th>\n",
       "      <td>101</td>\n",
       "      <td>Intro to Python</td>\n",
       "      <td>Chris Bruehl</td>\n",
       "    </tr>\n",
       "    <tr>\n",
       "      <th>1</th>\n",
       "      <td>102</td>\n",
       "      <td>Intro to SQL</td>\n",
       "      <td>John Pauler</td>\n",
       "    </tr>\n",
       "    <tr>\n",
       "      <th>2</th>\n",
       "      <td>201</td>\n",
       "      <td>Exploratory Data Analysis</td>\n",
       "      <td>Alice Zhao</td>\n",
       "    </tr>\n",
       "  </tbody>\n",
       "</table>\n",
       "</div>"
      ],
      "text/plain": [
       "   course_id                     course    instructor\n",
       "0        101            Intro to Python  Chris Bruehl\n",
       "1        102               Intro to SQL   John Pauler\n",
       "2        201  Exploratory Data Analysis    Alice Zhao"
      ]
     },
     "execution_count": 10,
     "metadata": {},
     "output_type": "execute_result"
    }
   ],
   "source": [
    "# Reading data from the database\n",
    "\n",
    "# Importing the database connector\n",
    "import sqlite3\n",
    "\n",
    "# Connect to the database\n",
    "connect = sqlite3.connect('../Data/maven.db')\n",
    "\n",
    "# We can read the data using pandas\n",
    "df_sql = pd.read_sql('select * from courses',connect)\n",
    "df_sql.head(3)"
   ]
  },
  {
   "cell_type": "markdown",
   "id": "701dd029",
   "metadata": {},
   "source": [
    "#### Exploring a DataFrame\n",
    "- This helps to ensure that the data was imported correctly"
   ]
  },
  {
   "cell_type": "code",
   "execution_count": 11,
   "id": "f6c8a01e",
   "metadata": {},
   "outputs": [
    {
     "data": {
      "text/html": [
       "<div>\n",
       "<style scoped>\n",
       "    .dataframe tbody tr th:only-of-type {\n",
       "        vertical-align: middle;\n",
       "    }\n",
       "\n",
       "    .dataframe tbody tr th {\n",
       "        vertical-align: top;\n",
       "    }\n",
       "\n",
       "    .dataframe thead th {\n",
       "        text-align: right;\n",
       "    }\n",
       "</style>\n",
       "<table border=\"1\" class=\"dataframe\">\n",
       "  <thead>\n",
       "    <tr style=\"text-align: right;\">\n",
       "      <th></th>\n",
       "      <th>id</th>\n",
       "      <th>age</th>\n",
       "      <th>gender</th>\n",
       "      <th>height</th>\n",
       "      <th>weight</th>\n",
       "      <th>ap_hi</th>\n",
       "      <th>ap_lo</th>\n",
       "      <th>cholesterol</th>\n",
       "      <th>smoke</th>\n",
       "    </tr>\n",
       "  </thead>\n",
       "  <tbody>\n",
       "    <tr>\n",
       "      <th>0</th>\n",
       "      <td>0</td>\n",
       "      <td>18393</td>\n",
       "      <td>2</td>\n",
       "      <td>168</td>\n",
       "      <td>62.0</td>\n",
       "      <td>110</td>\n",
       "      <td>80</td>\n",
       "      <td>1</td>\n",
       "      <td>0</td>\n",
       "    </tr>\n",
       "    <tr>\n",
       "      <th>1</th>\n",
       "      <td>1</td>\n",
       "      <td>20228</td>\n",
       "      <td>1</td>\n",
       "      <td>156</td>\n",
       "      <td>85.0</td>\n",
       "      <td>140</td>\n",
       "      <td>90</td>\n",
       "      <td>3</td>\n",
       "      <td>0</td>\n",
       "    </tr>\n",
       "    <tr>\n",
       "      <th>2</th>\n",
       "      <td>2</td>\n",
       "      <td>18857</td>\n",
       "      <td>1</td>\n",
       "      <td>165</td>\n",
       "      <td>64.0</td>\n",
       "      <td>130</td>\n",
       "      <td>70</td>\n",
       "      <td>3</td>\n",
       "      <td>0</td>\n",
       "    </tr>\n",
       "    <tr>\n",
       "      <th>3</th>\n",
       "      <td>3</td>\n",
       "      <td>17623</td>\n",
       "      <td>2</td>\n",
       "      <td>169</td>\n",
       "      <td>82.0</td>\n",
       "      <td>150</td>\n",
       "      <td>100</td>\n",
       "      <td>1</td>\n",
       "      <td>0</td>\n",
       "    </tr>\n",
       "    <tr>\n",
       "      <th>4</th>\n",
       "      <td>4</td>\n",
       "      <td>17474</td>\n",
       "      <td>1</td>\n",
       "      <td>156</td>\n",
       "      <td>56.0</td>\n",
       "      <td>100</td>\n",
       "      <td>60</td>\n",
       "      <td>1</td>\n",
       "      <td>0</td>\n",
       "    </tr>\n",
       "  </tbody>\n",
       "</table>\n",
       "</div>"
      ],
      "text/plain": [
       "   id    age  gender  height  weight  ap_hi  ap_lo  cholesterol  smoke\n",
       "0   0  18393       2     168    62.0    110     80            1      0\n",
       "1   1  20228       1     156    85.0    140     90            3      0\n",
       "2   2  18857       1     165    64.0    130     70            3      0\n",
       "3   3  17623       2     169    82.0    150    100            1      0\n",
       "4   4  17474       1     156    56.0    100     60            1      0"
      ]
     },
     "execution_count": 11,
     "metadata": {},
     "output_type": "execute_result"
    }
   ],
   "source": [
    "# head - displays the first rows of a DataFrame\n",
    "# We can also pass an argument of how many rows we want to see as we did above\n",
    "\n",
    "df_csv.head()"
   ]
  },
  {
   "cell_type": "code",
   "execution_count": 12,
   "id": "9e011f2d",
   "metadata": {},
   "outputs": [
    {
     "data": {
      "text/plain": [
       "(25, 7)"
      ]
     },
     "execution_count": 12,
     "metadata": {},
     "output_type": "execute_result"
    }
   ],
   "source": [
    "# shape - displays the number of rows and columns in a dataFrame\n",
    "# Groceries have 25 rows and 7 columns\n",
    "\n",
    "df_excel.shape"
   ]
  },
  {
   "cell_type": "code",
   "execution_count": 13,
   "id": "06cd4af4",
   "metadata": {},
   "outputs": [
    {
     "data": {
      "text/plain": [
       "5"
      ]
     },
     "execution_count": 13,
     "metadata": {},
     "output_type": "execute_result"
    }
   ],
   "source": [
    "# count - displays the number of values in each column\n",
    "# we have a total of 5 courses in our database\n",
    "\n",
    "df_sql.course.count()"
   ]
  },
  {
   "cell_type": "code",
   "execution_count": 14,
   "id": "2cd48fb8",
   "metadata": {},
   "outputs": [
    {
     "data": {
      "text/plain": [
       "(164.35922857142856, 55, 250)"
      ]
     },
     "execution_count": 14,
     "metadata": {},
     "output_type": "execute_result"
    }
   ],
   "source": [
    "# describe - displays summary statistics like mean, min and max\n",
    "# The mean,min and max of the height column in our csv data is 164..., 55,250\n",
    "\n",
    "df_csv.height.mean() , df_csv.height.min() , df_csv.height.max()"
   ]
  },
  {
   "cell_type": "code",
   "execution_count": 15,
   "id": "474f149a",
   "metadata": {},
   "outputs": [
    {
     "name": "stdout",
     "output_type": "stream",
     "text": [
      "<class 'pandas.core.frame.DataFrame'>\n",
      "RangeIndex: 70000 entries, 0 to 69999\n",
      "Data columns (total 9 columns):\n",
      " #   Column       Non-Null Count  Dtype  \n",
      "---  ------       --------------  -----  \n",
      " 0   id           70000 non-null  int64  \n",
      " 1   age          70000 non-null  int64  \n",
      " 2   gender       70000 non-null  int64  \n",
      " 3   height       70000 non-null  int64  \n",
      " 4   weight       70000 non-null  float64\n",
      " 5   ap_hi        70000 non-null  int64  \n",
      " 6   ap_lo        70000 non-null  int64  \n",
      " 7   cholesterol  70000 non-null  int64  \n",
      " 8   smoke        70000 non-null  int64  \n",
      "dtypes: float64(1), int64(8)\n",
      "memory usage: 4.8 MB\n"
     ]
    }
   ],
   "source": [
    "# info - displays the non-null values and data types of each column\n",
    "df_csv.info()"
   ]
  },
  {
   "cell_type": "markdown",
   "id": "cb418ffc",
   "metadata": {},
   "source": [
    "# 3. Cleaning the data"
   ]
  },
  {
   "cell_type": "markdown",
   "id": "ce4b740c",
   "metadata": {},
   "source": [
    "- Cleaning the data involves converting columns to the correct data types, handling data issues and creating new columns for analysis.\n",
    "- Common data issues include :\n",
    "    - Duplicates\n",
    "    - Outliers\n",
    "    - Missing Data\n",
    "    - Inconsistent text & typos"
   ]
  },
  {
   "cell_type": "markdown",
   "id": "db37bb79",
   "metadata": {},
   "source": [
    "### a) converting columns into the correct type"
   ]
  },
  {
   "cell_type": "code",
   "execution_count": 16,
   "id": "f7c07029",
   "metadata": {},
   "outputs": [
    {
     "data": {
      "text/plain": [
       "id               int64\n",
       "age              int64\n",
       "gender           int64\n",
       "height           int64\n",
       "weight         float64\n",
       "ap_hi            int64\n",
       "ap_lo            int64\n",
       "cholesterol      int64\n",
       "smoke            int64\n",
       "dtype: object"
      ]
     },
     "execution_count": 16,
     "metadata": {},
     "output_type": "execute_result"
    }
   ],
   "source": [
    "# we use .dtypes to check the data types of each column in a dataset\n",
    "df_csv.dtypes"
   ]
  },
  {
   "cell_type": "markdown",
   "id": "fcdd45e8",
   "metadata": {},
   "source": [
    "- When converting object columns to numeric columns we use pd.to_numeric()\n",
    "- When converting object columns to datetime columns we use pd.to_datetime()\n",
    "- To change the date format we use pd.to_datetime(dt_col,format ='%Y-%M-%D')"
   ]
  },
  {
   "cell_type": "code",
   "execution_count": 17,
   "id": "230949b7",
   "metadata": {},
   "outputs": [
    {
     "data": {
      "text/html": [
       "<div>\n",
       "<style scoped>\n",
       "    .dataframe tbody tr th:only-of-type {\n",
       "        vertical-align: middle;\n",
       "    }\n",
       "\n",
       "    .dataframe tbody tr th {\n",
       "        vertical-align: top;\n",
       "    }\n",
       "\n",
       "    .dataframe thead th {\n",
       "        text-align: right;\n",
       "    }\n",
       "</style>\n",
       "<table border=\"1\" class=\"dataframe\">\n",
       "  <thead>\n",
       "    <tr style=\"text-align: right;\">\n",
       "      <th></th>\n",
       "      <th>Name</th>\n",
       "      <th>Run Time</th>\n",
       "      <th>Warm Up Time</th>\n",
       "      <th>Location</th>\n",
       "      <th>Run Date</th>\n",
       "      <th>Race Date</th>\n",
       "      <th>Rain</th>\n",
       "      <th>Fee</th>\n",
       "    </tr>\n",
       "  </thead>\n",
       "  <tbody>\n",
       "    <tr>\n",
       "      <th>0</th>\n",
       "      <td>Alexis</td>\n",
       "      <td>9.2343</td>\n",
       "      <td>3.5</td>\n",
       "      <td>“school”</td>\n",
       "      <td>2023-04-15 12:00:00</td>\n",
       "      <td>2023-06-01</td>\n",
       "      <td>False</td>\n",
       "      <td>$0.00</td>\n",
       "    </tr>\n",
       "    <tr>\n",
       "      <th>1</th>\n",
       "      <td>Alexis</td>\n",
       "      <td>10.3842</td>\n",
       "      <td>3.5</td>\n",
       "      <td>School</td>\n",
       "      <td>2023-04-22 12:30:00</td>\n",
       "      <td>2023-06-01</td>\n",
       "      <td>True</td>\n",
       "      <td>$0.00</td>\n",
       "    </tr>\n",
       "    <tr>\n",
       "      <th>2</th>\n",
       "      <td>Alexis</td>\n",
       "      <td>8.1209</td>\n",
       "      <td>3 min</td>\n",
       "      <td>“the gym”</td>\n",
       "      <td>2023-05-10 15:00:00</td>\n",
       "      <td>2023-06-01</td>\n",
       "      <td>False</td>\n",
       "      <td>$2.50</td>\n",
       "    </tr>\n",
       "  </tbody>\n",
       "</table>\n",
       "</div>"
      ],
      "text/plain": [
       "     Name  Run Time Warm Up Time   Location            Run Date  Race Date  \\\n",
       "0  Alexis    9.2343          3.5   “school” 2023-04-15 12:00:00 2023-06-01   \n",
       "1  Alexis   10.3842          3.5     School 2023-04-22 12:30:00 2023-06-01   \n",
       "2  Alexis    8.1209        3 min  “the gym” 2023-05-10 15:00:00 2023-06-01   \n",
       "\n",
       "    Rain    Fee  \n",
       "0  False  $0.00  \n",
       "1   True  $0.00  \n",
       "2  False  $2.50  "
      ]
     },
     "execution_count": 17,
     "metadata": {},
     "output_type": "execute_result"
    }
   ],
   "source": [
    "# When converting object columns to numeric columns we use pd.to_numeric()\n",
    "data_runtime = pd.read_excel(\"../Data/Run Times.xlsx\")\n",
    "data_runtime.head(3)"
   ]
  },
  {
   "cell_type": "code",
   "execution_count": 18,
   "id": "18265d62",
   "metadata": {},
   "outputs": [
    {
     "data": {
      "text/plain": [
       "Name                    object\n",
       "Run Time               float64\n",
       "Warm Up Time            object\n",
       "Location                object\n",
       "Run Date        datetime64[ns]\n",
       "Race Date       datetime64[ns]\n",
       "Rain                      bool\n",
       "Fee                     object\n",
       "dtype: object"
      ]
     },
     "execution_count": 18,
     "metadata": {},
     "output_type": "execute_result"
    }
   ],
   "source": [
    "# checking the dtypes\n",
    "data_runtime.dtypes"
   ]
  },
  {
   "cell_type": "code",
   "execution_count": 19,
   "id": "33351ac4",
   "metadata": {},
   "outputs": [
    {
     "data": {
      "text/html": [
       "<div>\n",
       "<style scoped>\n",
       "    .dataframe tbody tr th:only-of-type {\n",
       "        vertical-align: middle;\n",
       "    }\n",
       "\n",
       "    .dataframe tbody tr th {\n",
       "        vertical-align: top;\n",
       "    }\n",
       "\n",
       "    .dataframe thead th {\n",
       "        text-align: right;\n",
       "    }\n",
       "</style>\n",
       "<table border=\"1\" class=\"dataframe\">\n",
       "  <thead>\n",
       "    <tr style=\"text-align: right;\">\n",
       "      <th></th>\n",
       "      <th>Name</th>\n",
       "      <th>Run Time</th>\n",
       "      <th>Warm Up Time</th>\n",
       "      <th>Location</th>\n",
       "      <th>Run Date</th>\n",
       "      <th>Race Date</th>\n",
       "      <th>Rain</th>\n",
       "      <th>Fee</th>\n",
       "    </tr>\n",
       "  </thead>\n",
       "  <tbody>\n",
       "    <tr>\n",
       "      <th>0</th>\n",
       "      <td>Alexis</td>\n",
       "      <td>9.2343</td>\n",
       "      <td>3.5</td>\n",
       "      <td>“school”</td>\n",
       "      <td>2023-04-15 12:00:00</td>\n",
       "      <td>2023-06-01</td>\n",
       "      <td>False</td>\n",
       "      <td>$0.00</td>\n",
       "    </tr>\n",
       "    <tr>\n",
       "      <th>1</th>\n",
       "      <td>Alexis</td>\n",
       "      <td>10.3842</td>\n",
       "      <td>3.5</td>\n",
       "      <td>School</td>\n",
       "      <td>2023-04-22 12:30:00</td>\n",
       "      <td>2023-06-01</td>\n",
       "      <td>True</td>\n",
       "      <td>$0.00</td>\n",
       "    </tr>\n",
       "    <tr>\n",
       "      <th>2</th>\n",
       "      <td>Alexis</td>\n",
       "      <td>8.1209</td>\n",
       "      <td>3</td>\n",
       "      <td>“the gym”</td>\n",
       "      <td>2023-05-10 15:00:00</td>\n",
       "      <td>2023-06-01</td>\n",
       "      <td>False</td>\n",
       "      <td>$2.50</td>\n",
       "    </tr>\n",
       "    <tr>\n",
       "      <th>3</th>\n",
       "      <td>David</td>\n",
       "      <td>7.2123</td>\n",
       "      <td>2.2</td>\n",
       "      <td>“school”</td>\n",
       "      <td>2023-05-01 15:15:00</td>\n",
       "      <td>2023-06-15</td>\n",
       "      <td>False</td>\n",
       "      <td>$0.00</td>\n",
       "    </tr>\n",
       "    <tr>\n",
       "      <th>4</th>\n",
       "      <td>David</td>\n",
       "      <td>6.8342</td>\n",
       "      <td>2</td>\n",
       "      <td>“gym”</td>\n",
       "      <td>2023-05-10 16:30:00</td>\n",
       "      <td>2023-06-15</td>\n",
       "      <td>False</td>\n",
       "      <td>$2.50</td>\n",
       "    </tr>\n",
       "  </tbody>\n",
       "</table>\n",
       "</div>"
      ],
      "text/plain": [
       "     Name  Run Time Warm Up Time   Location            Run Date  Race Date  \\\n",
       "0  Alexis    9.2343          3.5   “school” 2023-04-15 12:00:00 2023-06-01   \n",
       "1  Alexis   10.3842          3.5     School 2023-04-22 12:30:00 2023-06-01   \n",
       "2  Alexis    8.1209            3  “the gym” 2023-05-10 15:00:00 2023-06-01   \n",
       "3   David    7.2123          2.2   “school” 2023-05-01 15:15:00 2023-06-15   \n",
       "4   David    6.8342            2      “gym” 2023-05-10 16:30:00 2023-06-15   \n",
       "\n",
       "    Rain    Fee  \n",
       "0  False  $0.00  \n",
       "1   True  $0.00  \n",
       "2  False  $2.50  \n",
       "3  False  $0.00  \n",
       "4  False  $2.50  "
      ]
     },
     "execution_count": 19,
     "metadata": {},
     "output_type": "execute_result"
    }
   ],
   "source": [
    "# converting the Warm Up Time column to numeric from object\n",
    "# To achieve this we must ensure that the column contains data of the same type \n",
    "# the purpose of this code was to remove min string from the values in the Warm Up Time column\n",
    "\n",
    "data_runtime['Warm Up Time'] = data_runtime['Warm Up Time'].astype('str').str.replace(' min','')\n",
    "data_runtime"
   ]
  },
  {
   "cell_type": "code",
   "execution_count": 20,
   "id": "01cb91a7",
   "metadata": {},
   "outputs": [
    {
     "data": {
      "text/plain": [
       "Name                    object\n",
       "Run Time               float64\n",
       "Warm Up Time           float64\n",
       "Location                object\n",
       "Run Date        datetime64[ns]\n",
       "Race Date       datetime64[ns]\n",
       "Rain                      bool\n",
       "Fee                     object\n",
       "dtype: object"
      ]
     },
     "execution_count": 20,
     "metadata": {},
     "output_type": "execute_result"
    }
   ],
   "source": [
    "# converting the Warm Up Time column to numeric from object\n",
    "# now the data type of the warm up column has changed from object to a float\n",
    "\n",
    "data_runtime['Warm Up Time'] = pd.to_numeric(data_runtime['Warm Up Time'])\n",
    "data_runtime.dtypes"
   ]
  },
  {
   "cell_type": "markdown",
   "id": "7b2863a6",
   "metadata": {},
   "source": [
    "### b) Identifying and handling missing data"
   ]
  },
  {
   "cell_type": "markdown",
   "id": "6386d8bc",
   "metadata": {},
   "source": [
    "- The easiest way to identify missing data is with the <b>.isna()</b> method.\n",
    "- You can also use <b>.info()</b> or <b>the .value_counts().</b>\n",
    "- You can handle missing data by either mean,mode or median or fill them using 0 or droping the rows and columns with missing data.\n",
    "- <b>Note</b> : The best way to fill the missing values is by using your domain expertise knowledge."
   ]
  },
  {
   "cell_type": "code",
   "execution_count": 21,
   "id": "04b46336",
   "metadata": {},
   "outputs": [
    {
     "data": {
      "text/html": [
       "<div>\n",
       "<style scoped>\n",
       "    .dataframe tbody tr th:only-of-type {\n",
       "        vertical-align: middle;\n",
       "    }\n",
       "\n",
       "    .dataframe tbody tr th {\n",
       "        vertical-align: top;\n",
       "    }\n",
       "\n",
       "    .dataframe thead th {\n",
       "        text-align: right;\n",
       "    }\n",
       "</style>\n",
       "<table border=\"1\" class=\"dataframe\">\n",
       "  <thead>\n",
       "    <tr style=\"text-align: right;\">\n",
       "      <th></th>\n",
       "      <th>Name</th>\n",
       "      <th>Run Time</th>\n",
       "      <th>Warm Up Time</th>\n",
       "      <th>Location</th>\n",
       "      <th>Run Date</th>\n",
       "      <th>Race Date</th>\n",
       "      <th>Rain</th>\n",
       "      <th>Fee</th>\n",
       "    </tr>\n",
       "  </thead>\n",
       "  <tbody>\n",
       "    <tr>\n",
       "      <th>0</th>\n",
       "      <td>False</td>\n",
       "      <td>False</td>\n",
       "      <td>False</td>\n",
       "      <td>False</td>\n",
       "      <td>False</td>\n",
       "      <td>False</td>\n",
       "      <td>False</td>\n",
       "      <td>False</td>\n",
       "    </tr>\n",
       "    <tr>\n",
       "      <th>1</th>\n",
       "      <td>False</td>\n",
       "      <td>False</td>\n",
       "      <td>False</td>\n",
       "      <td>False</td>\n",
       "      <td>False</td>\n",
       "      <td>False</td>\n",
       "      <td>False</td>\n",
       "      <td>False</td>\n",
       "    </tr>\n",
       "    <tr>\n",
       "      <th>2</th>\n",
       "      <td>False</td>\n",
       "      <td>False</td>\n",
       "      <td>False</td>\n",
       "      <td>False</td>\n",
       "      <td>False</td>\n",
       "      <td>False</td>\n",
       "      <td>False</td>\n",
       "      <td>False</td>\n",
       "    </tr>\n",
       "    <tr>\n",
       "      <th>3</th>\n",
       "      <td>False</td>\n",
       "      <td>False</td>\n",
       "      <td>False</td>\n",
       "      <td>False</td>\n",
       "      <td>False</td>\n",
       "      <td>False</td>\n",
       "      <td>False</td>\n",
       "      <td>False</td>\n",
       "    </tr>\n",
       "    <tr>\n",
       "      <th>4</th>\n",
       "      <td>False</td>\n",
       "      <td>False</td>\n",
       "      <td>False</td>\n",
       "      <td>False</td>\n",
       "      <td>False</td>\n",
       "      <td>False</td>\n",
       "      <td>False</td>\n",
       "      <td>False</td>\n",
       "    </tr>\n",
       "  </tbody>\n",
       "</table>\n",
       "</div>"
      ],
      "text/plain": [
       "    Name  Run Time  Warm Up Time  Location  Run Date  Race Date   Rain    Fee\n",
       "0  False     False         False     False     False      False  False  False\n",
       "1  False     False         False     False     False      False  False  False\n",
       "2  False     False         False     False     False      False  False  False\n",
       "3  False     False         False     False     False      False  False  False\n",
       "4  False     False         False     False     False      False  False  False"
      ]
     },
     "execution_count": 21,
     "metadata": {},
     "output_type": "execute_result"
    }
   ],
   "source": [
    "# Checking for missing data using the isna() which returns true if any and false is not\n",
    "data_runtime.isna()"
   ]
  },
  {
   "cell_type": "code",
   "execution_count": 22,
   "id": "a1eccc97",
   "metadata": {},
   "outputs": [
    {
     "data": {
      "text/plain": [
       "id             0\n",
       "age            0\n",
       "gender         0\n",
       "height         0\n",
       "weight         0\n",
       "ap_hi          0\n",
       "ap_lo          0\n",
       "cholesterol    0\n",
       "smoke          0\n",
       "dtype: int64"
      ]
     },
     "execution_count": 22,
     "metadata": {},
     "output_type": "execute_result"
    }
   ],
   "source": [
    "# checking another dataset using the isna.sum() which returns the total missing values - no missing values\n",
    "df_csv.isna().sum()"
   ]
  },
  {
   "cell_type": "code",
   "execution_count": 23,
   "id": "7bae8dfd",
   "metadata": {},
   "outputs": [
    {
     "name": "stdout",
     "output_type": "stream",
     "text": [
      "<class 'pandas.core.frame.DataFrame'>\n",
      "RangeIndex: 25 entries, 0 to 24\n",
      "Data columns (total 7 columns):\n",
      " #   Column                   Non-Null Count  Dtype         \n",
      "---  ------                   --------------  -----         \n",
      " 0   Product_ID               25 non-null     object        \n",
      " 1   Category                 25 non-null     object        \n",
      " 2   Item                     25 non-null     object        \n",
      " 3   Price_Dollars            25 non-null     float64       \n",
      " 4   Inventory                25 non-null     int64         \n",
      " 5   Last_Updated             25 non-null     datetime64[ns]\n",
      " 6   Next_Scheduled_Shipment  25 non-null     datetime64[ns]\n",
      "dtypes: datetime64[ns](2), float64(1), int64(1), object(3)\n",
      "memory usage: 1.5+ KB\n"
     ]
    }
   ],
   "source": [
    "# using .info() to check on the missing values - no missing values\n",
    "df_excel.info()"
   ]
  },
  {
   "cell_type": "markdown",
   "id": "024195ff",
   "metadata": {},
   "source": [
    "- The <b>.dropna()</b> method is used to remove rows with missing data.\n",
    "- After removing some data we reset the rows using the <b>.reset_index()</b>"
   ]
  },
  {
   "cell_type": "code",
   "execution_count": 24,
   "id": "128a5d4f",
   "metadata": {},
   "outputs": [
    {
     "data": {
      "text/html": [
       "<div>\n",
       "<style scoped>\n",
       "    .dataframe tbody tr th:only-of-type {\n",
       "        vertical-align: middle;\n",
       "    }\n",
       "\n",
       "    .dataframe tbody tr th {\n",
       "        vertical-align: top;\n",
       "    }\n",
       "\n",
       "    .dataframe thead th {\n",
       "        text-align: right;\n",
       "    }\n",
       "</style>\n",
       "<table border=\"1\" class=\"dataframe\">\n",
       "  <thead>\n",
       "    <tr style=\"text-align: right;\">\n",
       "      <th></th>\n",
       "      <th>Student</th>\n",
       "      <th>Class</th>\n",
       "      <th>Year</th>\n",
       "      <th>Grade</th>\n",
       "    </tr>\n",
       "  </thead>\n",
       "  <tbody>\n",
       "    <tr>\n",
       "      <th>27</th>\n",
       "      <td>Joseph</td>\n",
       "      <td>Intro to Python</td>\n",
       "      <td>Freshman</td>\n",
       "      <td>93.0</td>\n",
       "    </tr>\n",
       "    <tr>\n",
       "      <th>79</th>\n",
       "      <td>Connor</td>\n",
       "      <td>EDA</td>\n",
       "      <td>Junior</td>\n",
       "      <td>91.0</td>\n",
       "    </tr>\n",
       "    <tr>\n",
       "      <th>37</th>\n",
       "      <td>John</td>\n",
       "      <td>Intro to Python</td>\n",
       "      <td>Freshman</td>\n",
       "      <td>50.0</td>\n",
       "    </tr>\n",
       "    <tr>\n",
       "      <th>61</th>\n",
       "      <td>Chloe</td>\n",
       "      <td>Exploratory Data Analysis</td>\n",
       "      <td>Sophomore</td>\n",
       "      <td>87.0</td>\n",
       "    </tr>\n",
       "    <tr>\n",
       "      <th>19</th>\n",
       "      <td>Mia</td>\n",
       "      <td>Python</td>\n",
       "      <td>Freshman</td>\n",
       "      <td>80.0</td>\n",
       "    </tr>\n",
       "  </tbody>\n",
       "</table>\n",
       "</div>"
      ],
      "text/plain": [
       "   Student                      Class       Year  Grade\n",
       "27  Joseph            Intro to Python   Freshman   93.0\n",
       "79  Connor                        EDA     Junior   91.0\n",
       "37    John            Intro to Python   Freshman   50.0\n",
       "61   Chloe  Exploratory Data Analysis  Sophomore   87.0\n",
       "19     Mia                     Python   Freshman   80.0"
      ]
     },
     "execution_count": 24,
     "metadata": {},
     "output_type": "execute_result"
    }
   ],
   "source": [
    "# Loading a dataset that has missing values\n",
    "students = pd.read_excel(\"../Data/Student Grades.xlsx\")\n",
    "students.sample(5)"
   ]
  },
  {
   "cell_type": "code",
   "execution_count": 25,
   "id": "c3eeb0a8",
   "metadata": {},
   "outputs": [
    {
     "data": {
      "text/plain": [
       "Student    2\n",
       "Class      3\n",
       "Year       6\n",
       "Grade      4\n",
       "dtype: int64"
      ]
     },
     "execution_count": 25,
     "metadata": {},
     "output_type": "execute_result"
    }
   ],
   "source": [
    "# checking for the missing values so that we can work on them\n",
    "students.isna().sum()"
   ]
  },
  {
   "cell_type": "code",
   "execution_count": 26,
   "id": "2742ae03",
   "metadata": {},
   "outputs": [],
   "source": [
    "# Let's fill the Grade with the mean\n",
    "# If you run the cell above you will find that Grade column has missing values\n",
    "\n",
    "students.Grade = students.Grade.fillna(students.Grade.mean())"
   ]
  },
  {
   "cell_type": "code",
   "execution_count": 27,
   "id": "d0fcec38",
   "metadata": {},
   "outputs": [],
   "source": [
    "# Let's fill the missing year by imputing senior using the numpy where method\n",
    "import numpy as np\n",
    "\n",
    "students.Year = np.where(students.Year.isna(),'Senior',students.Year)"
   ]
  },
  {
   "cell_type": "code",
   "execution_count": 28,
   "id": "ef71f010",
   "metadata": {},
   "outputs": [],
   "source": [
    "# Lets drop the remaining missing values using the dropna method\n",
    "# We're using the .values to extract the first no-missing values\n",
    "\n",
    "students.Student = students.Student.fillna(students.Student.dropna().values[0])"
   ]
  },
  {
   "cell_type": "code",
   "execution_count": 29,
   "id": "7dfe7065",
   "metadata": {},
   "outputs": [],
   "source": [
    "students.Class = students.Class.fillna(students.Class.dropna().values[0])"
   ]
  },
  {
   "cell_type": "markdown",
   "id": "33bd66a5",
   "metadata": {},
   "source": [
    "### c) Identifying and handling duplicated values"
   ]
  },
  {
   "cell_type": "markdown",
   "id": "985f6886",
   "metadata": {},
   "source": [
    "- We identify duplicated data by using <b>.duplicated</b> method which returns false for no duplicates and true for duplicates.\n",
    "- We remove duplicates by using the <b>drop_duplicated</b> method."
   ]
  },
  {
   "cell_type": "markdown",
   "id": "2197d212",
   "metadata": {},
   "source": [
    "### d) Outliers"
   ]
  },
  {
   "cell_type": "markdown",
   "id": "864159b0",
   "metadata": {},
   "source": [
    "- Outliers are values in a dataset that are much bigger or smaller than others.\n",
    "- Outliers are identified by using plots and statistics ie histogram,box plot,standard deviation\n",
    "- Outliers are handled by either keeping them,removing the rows and columns where they exist or imputing them with NaN values or by resolving them using your domain experitise."
   ]
  },
  {
   "cell_type": "markdown",
   "id": "c81135c0",
   "metadata": {},
   "source": [
    "#### Histogram\n",
    "- It help to identify outliers by showing which values fall outside of the normal range\n",
    "- We use seaborn library to visualize the plots."
   ]
  },
  {
   "cell_type": "code",
   "execution_count": 30,
   "id": "341542b8",
   "metadata": {},
   "outputs": [
    {
     "data": {
      "image/png": "[encoded data removed]",
      "text/plain": [
       "<Figure size 640x480 with 1 Axes>"
      ]
     },
     "metadata": {},
     "output_type": "display_data"
    }
   ],
   "source": [
    "# Importing seaborn library\n",
    "import seaborn as sns\n",
    "\n",
    "# plotting the histogram\n",
    "# From the histogram we have four outliers\n",
    "sns.histplot(students);\n"
   ]
  },
  {
   "cell_type": "markdown",
   "id": "48d07945",
   "metadata": {},
   "source": [
    "#### Boxplot\n",
    "- They automatically plot outliers as dots outside of the min/max data range.\n",
    "- The width of the box is the <b>interquartile range(IQR)</b>, which is the middle 50% of the data.\n",
    "- Any value farther away than (1.5 * IQR) from each side of the box is considered an outlier."
   ]
  },
  {
   "cell_type": "code",
   "execution_count": 31,
   "id": "6ec90c43",
   "metadata": {},
   "outputs": [
    {
     "data": {
      "image/png": "[encoded data removed]",
      "text/plain": [
       "<Figure size 640x480 with 1 Axes>"
      ]
     },
     "metadata": {},
     "output_type": "display_data"
    }
   ],
   "source": [
    "# ploting a boxplot\n",
    "# shows the four outliers we have\n",
    "\n",
    "sns.boxplot(x=students.Grade);"
   ]
  },
  {
   "cell_type": "markdown",
   "id": "5717570b",
   "metadata": {},
   "source": [
    "#### Standard deviation\n",
    "- It is the measure of the spread of a dataset from the mean.\n",
    "- Values at least 3 standard deviations away from the mean are considered outliers. This is meant for normaly distributed data.\n",
    "- The threshold of 3 standard deviations can be changed to 2 or 4 depending on the data."
   ]
  },
  {
   "cell_type": "code",
   "execution_count": 32,
   "id": "0d2e17c3",
   "metadata": {},
   "outputs": [
    {
     "data": {
      "text/plain": [
       "(85.70731707317074, 15.069210720583541)"
      ]
     },
     "execution_count": 32,
     "metadata": {},
     "output_type": "execute_result"
    }
   ],
   "source": [
    "# getting the mean and the std\n",
    "mean = np.mean(students.Grade)\n",
    "std =  np.std(students.Grade)\n",
    "\n",
    "mean, std"
   ]
  },
  {
   "cell_type": "code",
   "execution_count": 33,
   "id": "a0220468",
   "metadata": {},
   "outputs": [
    {
     "data": {
      "text/plain": [
       "[50.0, 45.0, 200.0]"
      ]
     },
     "execution_count": 33,
     "metadata": {},
     "output_type": "execute_result"
    }
   ],
   "source": [
    "# Returning the outliers\n",
    "[grade for grade in students.Grade \n",
    " if (grade < mean - 2*std) or \n",
    " (grade > mean + 2*std)]"
   ]
  },
  {
   "cell_type": "markdown",
   "id": "7b711d74",
   "metadata": {},
   "source": [
    "# 4. Exploratory Data Analysis (EDA)"
   ]
  },
  {
   "cell_type": "markdown",
   "id": "b33cfc3a",
   "metadata": {},
   "source": [
    "- This phase gives data scientist a chance to :\n",
    "    - Get a better sense of the databy viewing it from multiple angles\n",
    "    - Discover patterns, relationships, and insights form the data\n",
    "- The common EDA techniques used by data scientists are :\n",
    "    - <b>Exploring the data</b> - viewing and summarizing data from multiple angles. i.e filtering,sorting,grouping \n",
    "    - <b>Visualizing data</b> - using charts to identify trends and patterns i.e histograms,scatterplots,pair plots."
   ]
  },
  {
   "cell_type": "markdown",
   "id": "44aedd61",
   "metadata": {},
   "source": [
    "#### Filtering\n",
    "- You can filter a DataFrame by passing a logical test into the <b>loc[]</b> accessor and applying multiple filters by using AND <b>'&'</b> and  OR <b>'|'</b> operators."
   ]
  },
  {
   "cell_type": "code",
   "execution_count": 34,
   "id": "a4e519ee",
   "metadata": {},
   "outputs": [
    {
     "data": {
      "text/html": [
       "<div>\n",
       "<style scoped>\n",
       "    .dataframe tbody tr th:only-of-type {\n",
       "        vertical-align: middle;\n",
       "    }\n",
       "\n",
       "    .dataframe tbody tr th {\n",
       "        vertical-align: top;\n",
       "    }\n",
       "\n",
       "    .dataframe thead th {\n",
       "        text-align: right;\n",
       "    }\n",
       "</style>\n",
       "<table border=\"1\" class=\"dataframe\">\n",
       "  <thead>\n",
       "    <tr style=\"text-align: right;\">\n",
       "      <th></th>\n",
       "      <th>Student</th>\n",
       "      <th>Class</th>\n",
       "      <th>Year</th>\n",
       "      <th>Grade</th>\n",
       "    </tr>\n",
       "  </thead>\n",
       "  <tbody>\n",
       "    <tr>\n",
       "      <th>7</th>\n",
       "      <td>Jacob</td>\n",
       "      <td>Freshman Seminar</td>\n",
       "      <td>Senior</td>\n",
       "      <td>88.000000</td>\n",
       "    </tr>\n",
       "    <tr>\n",
       "      <th>8</th>\n",
       "      <td>William</td>\n",
       "      <td>Freshman Seminar</td>\n",
       "      <td>Senior</td>\n",
       "      <td>89.000000</td>\n",
       "    </tr>\n",
       "    <tr>\n",
       "      <th>9</th>\n",
       "      <td>Ethan</td>\n",
       "      <td>Freshman Seminar</td>\n",
       "      <td>Senior</td>\n",
       "      <td>86.000000</td>\n",
       "    </tr>\n",
       "    <tr>\n",
       "      <th>81</th>\n",
       "      <td>Emma</td>\n",
       "      <td>Freshman Seminar</td>\n",
       "      <td>Senior</td>\n",
       "      <td>85.707317</td>\n",
       "    </tr>\n",
       "    <tr>\n",
       "      <th>82</th>\n",
       "      <td>Bennett</td>\n",
       "      <td>Freshman Seminar</td>\n",
       "      <td>Senior</td>\n",
       "      <td>85.707317</td>\n",
       "    </tr>\n",
       "    <tr>\n",
       "      <th>84</th>\n",
       "      <td>Gavin</td>\n",
       "      <td>EDA</td>\n",
       "      <td>Senior</td>\n",
       "      <td>85.707317</td>\n",
       "    </tr>\n",
       "    <tr>\n",
       "      <th>85</th>\n",
       "      <td>Calvin</td>\n",
       "      <td>Freshman Seminar</td>\n",
       "      <td>Senior</td>\n",
       "      <td>100.000000</td>\n",
       "    </tr>\n",
       "  </tbody>\n",
       "</table>\n",
       "</div>"
      ],
      "text/plain": [
       "    Student             Class    Year       Grade\n",
       "7     Jacob  Freshman Seminar  Senior   88.000000\n",
       "8   William  Freshman Seminar  Senior   89.000000\n",
       "9     Ethan  Freshman Seminar  Senior   86.000000\n",
       "81     Emma  Freshman Seminar  Senior   85.707317\n",
       "82  Bennett  Freshman Seminar  Senior   85.707317\n",
       "84    Gavin               EDA  Senior   85.707317\n",
       "85   Calvin  Freshman Seminar  Senior  100.000000"
      ]
     },
     "execution_count": 34,
     "metadata": {},
     "output_type": "execute_result"
    }
   ],
   "source": [
    "# Locating students who are seniors from our students dataframe\n",
    "\n",
    "students.loc[students.Year == 'Senior']"
   ]
  },
  {
   "cell_type": "code",
   "execution_count": 37,
   "id": "2fded2b0",
   "metadata": {},
   "outputs": [
    {
     "data": {
      "text/html": [
       "<div>\n",
       "<style scoped>\n",
       "    .dataframe tbody tr th:only-of-type {\n",
       "        vertical-align: middle;\n",
       "    }\n",
       "\n",
       "    .dataframe tbody tr th {\n",
       "        vertical-align: top;\n",
       "    }\n",
       "\n",
       "    .dataframe thead th {\n",
       "        text-align: right;\n",
       "    }\n",
       "</style>\n",
       "<table border=\"1\" class=\"dataframe\">\n",
       "  <thead>\n",
       "    <tr style=\"text-align: right;\">\n",
       "      <th></th>\n",
       "      <th>Student</th>\n",
       "      <th>Class</th>\n",
       "      <th>Year</th>\n",
       "      <th>Grade</th>\n",
       "    </tr>\n",
       "  </thead>\n",
       "  <tbody>\n",
       "    <tr>\n",
       "      <th>70</th>\n",
       "      <td>Julian</td>\n",
       "      <td>EDA</td>\n",
       "      <td>Junior</td>\n",
       "      <td>95.0</td>\n",
       "    </tr>\n",
       "    <tr>\n",
       "      <th>71</th>\n",
       "      <td>Grace</td>\n",
       "      <td>EDA</td>\n",
       "      <td>Junior</td>\n",
       "      <td>77.0</td>\n",
       "    </tr>\n",
       "    <tr>\n",
       "      <th>72</th>\n",
       "      <td>Isaiah</td>\n",
       "      <td>EDA</td>\n",
       "      <td>Junior</td>\n",
       "      <td>88.0</td>\n",
       "    </tr>\n",
       "    <tr>\n",
       "      <th>73</th>\n",
       "      <td>Cameron</td>\n",
       "      <td>EDA</td>\n",
       "      <td>Junior</td>\n",
       "      <td>72.0</td>\n",
       "    </tr>\n",
       "    <tr>\n",
       "      <th>74</th>\n",
       "      <td>Eli</td>\n",
       "      <td>EDA</td>\n",
       "      <td>Junior</td>\n",
       "      <td>92.0</td>\n",
       "    </tr>\n",
       "    <tr>\n",
       "      <th>75</th>\n",
       "      <td>Angel</td>\n",
       "      <td>EDA</td>\n",
       "      <td>Junior</td>\n",
       "      <td>79.0</td>\n",
       "    </tr>\n",
       "    <tr>\n",
       "      <th>76</th>\n",
       "      <td>Zoey</td>\n",
       "      <td>EDA</td>\n",
       "      <td>Junior</td>\n",
       "      <td>91.0</td>\n",
       "    </tr>\n",
       "    <tr>\n",
       "      <th>77</th>\n",
       "      <td>Aaron</td>\n",
       "      <td>EDA</td>\n",
       "      <td>Junior</td>\n",
       "      <td>85.0</td>\n",
       "    </tr>\n",
       "    <tr>\n",
       "      <th>78</th>\n",
       "      <td>Charles</td>\n",
       "      <td>EDA</td>\n",
       "      <td>Junior</td>\n",
       "      <td>93.0</td>\n",
       "    </tr>\n",
       "    <tr>\n",
       "      <th>79</th>\n",
       "      <td>Connor</td>\n",
       "      <td>EDA</td>\n",
       "      <td>Junior</td>\n",
       "      <td>91.0</td>\n",
       "    </tr>\n",
       "    <tr>\n",
       "      <th>80</th>\n",
       "      <td>Riley</td>\n",
       "      <td>EDA</td>\n",
       "      <td>Junior</td>\n",
       "      <td>87.0</td>\n",
       "    </tr>\n",
       "    <tr>\n",
       "      <th>83</th>\n",
       "      <td>Emma</td>\n",
       "      <td>EDA</td>\n",
       "      <td>Junior</td>\n",
       "      <td>84.0</td>\n",
       "    </tr>\n",
       "  </tbody>\n",
       "</table>\n",
       "</div>"
      ],
      "text/plain": [
       "    Student Class    Year  Grade\n",
       "70   Julian   EDA  Junior   95.0\n",
       "71    Grace   EDA  Junior   77.0\n",
       "72   Isaiah   EDA  Junior   88.0\n",
       "73  Cameron   EDA  Junior   72.0\n",
       "74      Eli   EDA  Junior   92.0\n",
       "75    Angel   EDA  Junior   79.0\n",
       "76     Zoey   EDA  Junior   91.0\n",
       "77    Aaron   EDA  Junior   85.0\n",
       "78  Charles   EDA  Junior   93.0\n",
       "79   Connor   EDA  Junior   91.0\n",
       "80    Riley   EDA  Junior   87.0\n",
       "83     Emma   EDA  Junior   84.0"
      ]
     },
     "execution_count": 37,
     "metadata": {},
     "output_type": "execute_result"
    }
   ],
   "source": [
    "# Applying multiple filters using AND - &\n",
    "# Locating students who are Juniors and took the EDA class\n",
    "\n",
    "mask = (students.Year == 'Junior') & (students.Class == 'EDA')\n",
    "students.loc[mask]  "
   ]
  },
  {
   "cell_type": "code",
   "execution_count": 38,
   "id": "ca399d40",
   "metadata": {},
   "outputs": [
    {
     "data": {
      "text/html": [
       "<div>\n",
       "<style scoped>\n",
       "    .dataframe tbody tr th:only-of-type {\n",
       "        vertical-align: middle;\n",
       "    }\n",
       "\n",
       "    .dataframe tbody tr th {\n",
       "        vertical-align: top;\n",
       "    }\n",
       "\n",
       "    .dataframe thead th {\n",
       "        text-align: right;\n",
       "    }\n",
       "</style>\n",
       "<table border=\"1\" class=\"dataframe\">\n",
       "  <thead>\n",
       "    <tr style=\"text-align: right;\">\n",
       "      <th></th>\n",
       "      <th>Student</th>\n",
       "      <th>Class</th>\n",
       "      <th>Year</th>\n",
       "      <th>Grade</th>\n",
       "    </tr>\n",
       "  </thead>\n",
       "  <tbody>\n",
       "    <tr>\n",
       "      <th>70</th>\n",
       "      <td>Julian</td>\n",
       "      <td>EDA</td>\n",
       "      <td>Junior</td>\n",
       "      <td>95.0</td>\n",
       "    </tr>\n",
       "    <tr>\n",
       "      <th>72</th>\n",
       "      <td>Isaiah</td>\n",
       "      <td>EDA</td>\n",
       "      <td>Junior</td>\n",
       "      <td>88.0</td>\n",
       "    </tr>\n",
       "    <tr>\n",
       "      <th>74</th>\n",
       "      <td>Eli</td>\n",
       "      <td>EDA</td>\n",
       "      <td>Junior</td>\n",
       "      <td>92.0</td>\n",
       "    </tr>\n",
       "    <tr>\n",
       "      <th>76</th>\n",
       "      <td>Zoey</td>\n",
       "      <td>EDA</td>\n",
       "      <td>Junior</td>\n",
       "      <td>91.0</td>\n",
       "    </tr>\n",
       "    <tr>\n",
       "      <th>77</th>\n",
       "      <td>Aaron</td>\n",
       "      <td>EDA</td>\n",
       "      <td>Junior</td>\n",
       "      <td>85.0</td>\n",
       "    </tr>\n",
       "    <tr>\n",
       "      <th>78</th>\n",
       "      <td>Charles</td>\n",
       "      <td>EDA</td>\n",
       "      <td>Junior</td>\n",
       "      <td>93.0</td>\n",
       "    </tr>\n",
       "    <tr>\n",
       "      <th>79</th>\n",
       "      <td>Connor</td>\n",
       "      <td>EDA</td>\n",
       "      <td>Junior</td>\n",
       "      <td>91.0</td>\n",
       "    </tr>\n",
       "    <tr>\n",
       "      <th>80</th>\n",
       "      <td>Riley</td>\n",
       "      <td>EDA</td>\n",
       "      <td>Junior</td>\n",
       "      <td>87.0</td>\n",
       "    </tr>\n",
       "    <tr>\n",
       "      <th>83</th>\n",
       "      <td>Emma</td>\n",
       "      <td>EDA</td>\n",
       "      <td>Junior</td>\n",
       "      <td>84.0</td>\n",
       "    </tr>\n",
       "  </tbody>\n",
       "</table>\n",
       "</div>"
      ],
      "text/plain": [
       "    Student Class    Year  Grade\n",
       "70   Julian   EDA  Junior   95.0\n",
       "72   Isaiah   EDA  Junior   88.0\n",
       "74      Eli   EDA  Junior   92.0\n",
       "76     Zoey   EDA  Junior   91.0\n",
       "77    Aaron   EDA  Junior   85.0\n",
       "78  Charles   EDA  Junior   93.0\n",
       "79   Connor   EDA  Junior   91.0\n",
       "80    Riley   EDA  Junior   87.0\n",
       "83     Emma   EDA  Junior   84.0"
      ]
     },
     "execution_count": 38,
     "metadata": {},
     "output_type": "execute_result"
    }
   ],
   "source": [
    "# We can also add another chain to check those students that had a grade over 80\n",
    "\n",
    "mask = (students.Year == 'Junior') & (students.Class == 'EDA') & (students.Grade >= 80)\n",
    "students.loc[mask]"
   ]
  },
  {
   "cell_type": "markdown",
   "id": "3904d67c",
   "metadata": {},
   "source": [
    "#### Sorting\n",
    "- We use <b>.sort_values()</b> method to sort dataset. The default is that it sorts data in ascending order."
   ]
  },
  {
   "cell_type": "code",
   "execution_count": 42,
   "id": "00bbd180",
   "metadata": {},
   "outputs": [
    {
     "data": {
      "text/html": [
       "<div>\n",
       "<style scoped>\n",
       "    .dataframe tbody tr th:only-of-type {\n",
       "        vertical-align: middle;\n",
       "    }\n",
       "\n",
       "    .dataframe tbody tr th {\n",
       "        vertical-align: top;\n",
       "    }\n",
       "\n",
       "    .dataframe thead th {\n",
       "        text-align: right;\n",
       "    }\n",
       "</style>\n",
       "<table border=\"1\" class=\"dataframe\">\n",
       "  <thead>\n",
       "    <tr style=\"text-align: right;\">\n",
       "      <th></th>\n",
       "      <th>Student</th>\n",
       "      <th>Class</th>\n",
       "      <th>Year</th>\n",
       "      <th>Grade</th>\n",
       "    </tr>\n",
       "  </thead>\n",
       "  <tbody>\n",
       "    <tr>\n",
       "      <th>83</th>\n",
       "      <td>Emma</td>\n",
       "      <td>EDA</td>\n",
       "      <td>Junior</td>\n",
       "      <td>84.0</td>\n",
       "    </tr>\n",
       "    <tr>\n",
       "      <th>77</th>\n",
       "      <td>Aaron</td>\n",
       "      <td>EDA</td>\n",
       "      <td>Junior</td>\n",
       "      <td>85.0</td>\n",
       "    </tr>\n",
       "    <tr>\n",
       "      <th>80</th>\n",
       "      <td>Riley</td>\n",
       "      <td>EDA</td>\n",
       "      <td>Junior</td>\n",
       "      <td>87.0</td>\n",
       "    </tr>\n",
       "    <tr>\n",
       "      <th>72</th>\n",
       "      <td>Isaiah</td>\n",
       "      <td>EDA</td>\n",
       "      <td>Junior</td>\n",
       "      <td>88.0</td>\n",
       "    </tr>\n",
       "    <tr>\n",
       "      <th>76</th>\n",
       "      <td>Zoey</td>\n",
       "      <td>EDA</td>\n",
       "      <td>Junior</td>\n",
       "      <td>91.0</td>\n",
       "    </tr>\n",
       "    <tr>\n",
       "      <th>79</th>\n",
       "      <td>Connor</td>\n",
       "      <td>EDA</td>\n",
       "      <td>Junior</td>\n",
       "      <td>91.0</td>\n",
       "    </tr>\n",
       "    <tr>\n",
       "      <th>74</th>\n",
       "      <td>Eli</td>\n",
       "      <td>EDA</td>\n",
       "      <td>Junior</td>\n",
       "      <td>92.0</td>\n",
       "    </tr>\n",
       "    <tr>\n",
       "      <th>78</th>\n",
       "      <td>Charles</td>\n",
       "      <td>EDA</td>\n",
       "      <td>Junior</td>\n",
       "      <td>93.0</td>\n",
       "    </tr>\n",
       "    <tr>\n",
       "      <th>70</th>\n",
       "      <td>Julian</td>\n",
       "      <td>EDA</td>\n",
       "      <td>Junior</td>\n",
       "      <td>95.0</td>\n",
       "    </tr>\n",
       "  </tbody>\n",
       "</table>\n",
       "</div>"
      ],
      "text/plain": [
       "    Student Class    Year  Grade\n",
       "83     Emma   EDA  Junior   84.0\n",
       "77    Aaron   EDA  Junior   85.0\n",
       "80    Riley   EDA  Junior   87.0\n",
       "72   Isaiah   EDA  Junior   88.0\n",
       "76     Zoey   EDA  Junior   91.0\n",
       "79   Connor   EDA  Junior   91.0\n",
       "74      Eli   EDA  Junior   92.0\n",
       "78  Charles   EDA  Junior   93.0\n",
       "70   Julian   EDA  Junior   95.0"
      ]
     },
     "execution_count": 42,
     "metadata": {},
     "output_type": "execute_result"
    }
   ],
   "source": [
    "# Let's sort the the output from our filter above in ascending and descending order\n",
    "# sorting in ascending using grades order\n",
    "# to sort in descending order we apply ascending=False as an argument in the method\n",
    "\n",
    "mask = (students.Year == 'Junior') & (students.Class == 'EDA') & (students.Grade >= 80)\n",
    "students.loc[mask].sort_values('Grade')"
   ]
  },
  {
   "cell_type": "markdown",
   "id": "9659039a",
   "metadata": {},
   "source": [
    "#### Grouping\n",
    "- We group a dataFrame by using the <b>.groupby()</b> method.\n",
    "- The general formula used is :\n",
    "    <b>df.groupby(col)[col].aggregation()</b>\n",
    "    - <b>df</b> - represents the dataFrame to group\n",
    "    - <b>(col)</b> - represents the columns to groupby i.e unique values to determine the rows in the output\n",
    "    - <b>[col]</b> - represents the column to apply calculations to\n",
    "    - <b>aggregation</b> - represents the calculations to apply to each group eg mean(),sum(),min(),max(),count() etc"
   ]
  },
  {
   "cell_type": "code",
   "execution_count": 47,
   "id": "7ca4756e",
   "metadata": {},
   "outputs": [
    {
     "data": {
      "text/plain": [
       "Year\n",
       "Junior    86.166667\n",
       "Name: Grade, dtype: float64"
      ]
     },
     "execution_count": 47,
     "metadata": {},
     "output_type": "execute_result"
    }
   ],
   "source": [
    "# Getting the mean of all the Juniors who did the EDA class\n",
    "# First you get that category of students you need then apply groupby \n",
    "\n",
    "mask = (students.Year == 'Junior') & (students.Class == 'EDA')\n",
    "students.loc[mask].groupby('Year')['Grade'].mean()"
   ]
  },
  {
   "cell_type": "code",
   "execution_count": 57,
   "id": "b52e71a0",
   "metadata": {},
   "outputs": [
    {
     "data": {
      "text/html": [
       "<div>\n",
       "<style scoped>\n",
       "    .dataframe tbody tr th:only-of-type {\n",
       "        vertical-align: middle;\n",
       "    }\n",
       "\n",
       "    .dataframe tbody tr th {\n",
       "        vertical-align: top;\n",
       "    }\n",
       "\n",
       "    .dataframe thead th {\n",
       "        text-align: right;\n",
       "    }\n",
       "</style>\n",
       "<table border=\"1\" class=\"dataframe\">\n",
       "  <thead>\n",
       "    <tr style=\"text-align: right;\">\n",
       "      <th></th>\n",
       "      <th>Year</th>\n",
       "      <th>Class</th>\n",
       "      <th>mean</th>\n",
       "      <th>min</th>\n",
       "      <th>max</th>\n",
       "      <th>count</th>\n",
       "    </tr>\n",
       "  </thead>\n",
       "  <tbody>\n",
       "    <tr>\n",
       "      <th>0</th>\n",
       "      <td>Freshman</td>\n",
       "      <td>Freshman Seminar</td>\n",
       "      <td>87.888889</td>\n",
       "      <td>86.000000</td>\n",
       "      <td>90.000000</td>\n",
       "      <td>9</td>\n",
       "    </tr>\n",
       "    <tr>\n",
       "      <th>1</th>\n",
       "      <td>Freshman</td>\n",
       "      <td>Intro to Python</td>\n",
       "      <td>82.360000</td>\n",
       "      <td>50.000000</td>\n",
       "      <td>95.000000</td>\n",
       "      <td>25</td>\n",
       "    </tr>\n",
       "    <tr>\n",
       "      <th>2</th>\n",
       "      <td>Freshman</td>\n",
       "      <td>Python</td>\n",
       "      <td>80.000000</td>\n",
       "      <td>80.000000</td>\n",
       "      <td>80.000000</td>\n",
       "      <td>1</td>\n",
       "    </tr>\n",
       "    <tr>\n",
       "      <th>3</th>\n",
       "      <td>Junior</td>\n",
       "      <td>EDA</td>\n",
       "      <td>86.166667</td>\n",
       "      <td>72.000000</td>\n",
       "      <td>95.000000</td>\n",
       "      <td>12</td>\n",
       "    </tr>\n",
       "    <tr>\n",
       "      <th>4</th>\n",
       "      <td>Junior</td>\n",
       "      <td>Exploratory Data Analysis</td>\n",
       "      <td>81.963415</td>\n",
       "      <td>64.000000</td>\n",
       "      <td>91.000000</td>\n",
       "      <td>8</td>\n",
       "    </tr>\n",
       "    <tr>\n",
       "      <th>5</th>\n",
       "      <td>Senior</td>\n",
       "      <td>EDA</td>\n",
       "      <td>85.707317</td>\n",
       "      <td>85.707317</td>\n",
       "      <td>85.707317</td>\n",
       "      <td>1</td>\n",
       "    </tr>\n",
       "    <tr>\n",
       "      <th>6</th>\n",
       "      <td>Senior</td>\n",
       "      <td>Freshman Seminar</td>\n",
       "      <td>89.069106</td>\n",
       "      <td>85.707317</td>\n",
       "      <td>100.000000</td>\n",
       "      <td>6</td>\n",
       "    </tr>\n",
       "    <tr>\n",
       "      <th>7</th>\n",
       "      <td>Sophomore</td>\n",
       "      <td>Exploratory Data Analysis</td>\n",
       "      <td>115.000000</td>\n",
       "      <td>84.000000</td>\n",
       "      <td>200.000000</td>\n",
       "      <td>4</td>\n",
       "    </tr>\n",
       "    <tr>\n",
       "      <th>8</th>\n",
       "      <td>Sophomore</td>\n",
       "      <td>Intro to SQL</td>\n",
       "      <td>83.550000</td>\n",
       "      <td>45.000000</td>\n",
       "      <td>98.000000</td>\n",
       "      <td>20</td>\n",
       "    </tr>\n",
       "  </tbody>\n",
       "</table>\n",
       "</div>"
      ],
      "text/plain": [
       "        Year                      Class        mean        min         max  \\\n",
       "0   Freshman           Freshman Seminar   87.888889  86.000000   90.000000   \n",
       "1   Freshman            Intro to Python   82.360000  50.000000   95.000000   \n",
       "2   Freshman                     Python   80.000000  80.000000   80.000000   \n",
       "3     Junior                        EDA   86.166667  72.000000   95.000000   \n",
       "4     Junior  Exploratory Data Analysis   81.963415  64.000000   91.000000   \n",
       "5     Senior                        EDA   85.707317  85.707317   85.707317   \n",
       "6     Senior           Freshman Seminar   89.069106  85.707317  100.000000   \n",
       "7  Sophomore  Exploratory Data Analysis  115.000000  84.000000  200.000000   \n",
       "8  Sophomore               Intro to SQL   83.550000  45.000000   98.000000   \n",
       "\n",
       "   count  \n",
       "0      9  \n",
       "1     25  \n",
       "2      1  \n",
       "3     12  \n",
       "4      8  \n",
       "5      1  \n",
       "6      6  \n",
       "7      4  \n",
       "8     20  "
      ]
     },
     "execution_count": 57,
     "metadata": {},
     "output_type": "execute_result"
    }
   ],
   "source": [
    "# we can also apply multiple aggregations functions\n",
    "students.groupby(['Year','Class'])['Grade'].agg(['mean','min','max','count']).reset_index()"
   ]
  },
  {
   "cell_type": "markdown",
   "id": "b146a2ff",
   "metadata": {},
   "source": [
    "### Data visualizations using pandas\n",
    "- You can use the <b>.plot()</b> method to create quick and simple visualizations directly from a pandas DataFrame\n",
    "- This part of EDA process allows you to  easily identify patterns and trends in data and quickly spot anomalies to further investigate.\n",
    "- Below are some of the methods you can use to visualize the data. You may also consider visualizing your data using the seaborn library as it is majory used to visualize the data."
   ]
  },
  {
   "cell_type": "code",
   "execution_count": 65,
   "id": "91929646",
   "metadata": {},
   "outputs": [
    {
     "data": {
      "image/png": "[encoded data removed]",
      "text/plain": [
       "<Figure size 640x480 with 1 Axes>"
      ]
     },
     "metadata": {},
     "output_type": "display_data"
    }
   ],
   "source": [
    "# Visualizing the EDA students who had over 80 percent on their grade\n",
    "\n",
    "mask = (students.Year == 'Junior') & (students.Class == 'EDA') & (students.Grade >= 80)\n",
    "students.loc[mask].plot.bar();"
   ]
  },
  {
   "cell_type": "code",
   "execution_count": 72,
   "id": "944d454a",
   "metadata": {},
   "outputs": [
    {
     "data": {
      "image/png": "[encoded data removed]",
      "text/plain": [
       "<Figure size 640x480 with 1 Axes>"
      ]
     },
     "metadata": {},
     "output_type": "display_data"
    }
   ],
   "source": [
    "# Using horizontal bars to visualize the graph above\n",
    "\n",
    "mask = (students.Year == 'Junior') & (students.Class == 'EDA') & (students.Grade >= 80)\n",
    "students.loc[mask].plot.barh();"
   ]
  },
  {
   "cell_type": "code",
   "execution_count": 71,
   "id": "a6fa529b",
   "metadata": {},
   "outputs": [
    {
     "data": {
      "image/png": "[encoded data removed]",
      "text/plain": [
       "<Figure size 640x480 with 1 Axes>"
      ]
     },
     "metadata": {},
     "output_type": "display_data"
    }
   ],
   "source": [
    "# ploting a line on students class and grades\n",
    "students.groupby('Year')['Grade'].mean().plot.line(x='Year',y='Grade');"
   ]
  },
  {
   "cell_type": "markdown",
   "id": "0248660b",
   "metadata": {},
   "source": [
    "# 5. Preparing Data For Modeling\n",
    "\n",
    "- To prepare data for modeling means to transform the data, into a structure and format that can be used as a direct input for a machine learning algorithm.\n",
    "- You prepare your data for modeling by :\n",
    "    - Creating a single table\n",
    "    - Setting the correct row granularity\n",
    "    - Ensuring each column is non-null and numeric\n",
    "    - Engineering features for the model"
   ]
  },
  {
   "cell_type": "markdown",
   "id": "6bb8f36d",
   "metadata": {},
   "source": [
    "### Creating a single table\n",
    "- There are two ways to combine a multiple tables into a single table:\n",
    "   - <b>Appending</b> - stacks the rows from the multiple tables with the same colum structure.\n",
    "   - <b>Joining</b> - adds related columns from one table to another based on common variables"
   ]
  },
  {
   "cell_type": "markdown",
   "id": "480dd7bd",
   "metadata": {},
   "source": [
    "#### Appending\n",
    "- Use <b>pd.concat()</b> to append or vertically stack multiple DataFrames\n",
    "- The columns for the DataFrames must be identical.\n",
    "- The general formula for concatenating dataFrames is <b>pd.concat([df_1,df_2])</b>. This will stack the rows from 'df_2' at the bottom of 'df_1'\n",
    "- To concatenate the dataFrames horizontally we set the <b>axis = 1</b>"
   ]
  },
  {
   "cell_type": "code",
   "execution_count": 74,
   "id": "f2d45622",
   "metadata": {},
   "outputs": [],
   "source": [
    "# Loading the data\n",
    "\n",
    "Maysales = pd.read_excel('../Data/Sales Tables.xlsx', sheet_name=0)\n",
    "Junesales = pd.read_excel('../Data/Sales Tables.xlsx', sheet_name=1)\n",
    "regions = pd.read_excel('../Data/Sales Tables.xlsx', sheet_name=2)"
   ]
  },
  {
   "cell_type": "code",
   "execution_count": 75,
   "id": "fe861058",
   "metadata": {},
   "outputs": [
    {
     "data": {
      "text/html": [
       "<div>\n",
       "<style scoped>\n",
       "    .dataframe tbody tr th:only-of-type {\n",
       "        vertical-align: middle;\n",
       "    }\n",
       "\n",
       "    .dataframe tbody tr th {\n",
       "        vertical-align: top;\n",
       "    }\n",
       "\n",
       "    .dataframe thead th {\n",
       "        text-align: right;\n",
       "    }\n",
       "</style>\n",
       "<table border=\"1\" class=\"dataframe\">\n",
       "  <thead>\n",
       "    <tr style=\"text-align: right;\">\n",
       "      <th></th>\n",
       "      <th>date</th>\n",
       "      <th>store</th>\n",
       "      <th>sales</th>\n",
       "    </tr>\n",
       "  </thead>\n",
       "  <tbody>\n",
       "    <tr>\n",
       "      <th>0</th>\n",
       "      <td>2022-05-01</td>\n",
       "      <td>1</td>\n",
       "      <td>341</td>\n",
       "    </tr>\n",
       "    <tr>\n",
       "      <th>1</th>\n",
       "      <td>2022-05-01</td>\n",
       "      <td>2</td>\n",
       "      <td>291</td>\n",
       "    </tr>\n",
       "    <tr>\n",
       "      <th>2</th>\n",
       "      <td>2022-05-01</td>\n",
       "      <td>3</td>\n",
       "      <td>493</td>\n",
       "    </tr>\n",
       "    <tr>\n",
       "      <th>3</th>\n",
       "      <td>2022-05-01</td>\n",
       "      <td>4</td>\n",
       "      <td>428</td>\n",
       "    </tr>\n",
       "    <tr>\n",
       "      <th>4</th>\n",
       "      <td>2022-05-01</td>\n",
       "      <td>5</td>\n",
       "      <td>152</td>\n",
       "    </tr>\n",
       "  </tbody>\n",
       "</table>\n",
       "</div>"
      ],
      "text/plain": [
       "        date  store  sales\n",
       "0 2022-05-01      1    341\n",
       "1 2022-05-01      2    291\n",
       "2 2022-05-01      3    493\n",
       "3 2022-05-01      4    428\n",
       "4 2022-05-01      5    152"
      ]
     },
     "execution_count": 75,
     "metadata": {},
     "output_type": "execute_result"
    }
   ],
   "source": [
    "Maysales.head()"
   ]
  },
  {
   "cell_type": "code",
   "execution_count": 76,
   "id": "ffa93289",
   "metadata": {},
   "outputs": [
    {
     "data": {
      "text/html": [
       "<div>\n",
       "<style scoped>\n",
       "    .dataframe tbody tr th:only-of-type {\n",
       "        vertical-align: middle;\n",
       "    }\n",
       "\n",
       "    .dataframe tbody tr th {\n",
       "        vertical-align: top;\n",
       "    }\n",
       "\n",
       "    .dataframe thead th {\n",
       "        text-align: right;\n",
       "    }\n",
       "</style>\n",
       "<table border=\"1\" class=\"dataframe\">\n",
       "  <thead>\n",
       "    <tr style=\"text-align: right;\">\n",
       "      <th></th>\n",
       "      <th>date</th>\n",
       "      <th>store</th>\n",
       "      <th>sales</th>\n",
       "    </tr>\n",
       "  </thead>\n",
       "  <tbody>\n",
       "    <tr>\n",
       "      <th>0</th>\n",
       "      <td>2022-06-01</td>\n",
       "      <td>1</td>\n",
       "      <td>67</td>\n",
       "    </tr>\n",
       "    <tr>\n",
       "      <th>1</th>\n",
       "      <td>2022-06-01</td>\n",
       "      <td>2</td>\n",
       "      <td>144</td>\n",
       "    </tr>\n",
       "    <tr>\n",
       "      <th>2</th>\n",
       "      <td>2022-06-01</td>\n",
       "      <td>3</td>\n",
       "      <td>226</td>\n",
       "    </tr>\n",
       "    <tr>\n",
       "      <th>3</th>\n",
       "      <td>2022-06-01</td>\n",
       "      <td>4</td>\n",
       "      <td>397</td>\n",
       "    </tr>\n",
       "    <tr>\n",
       "      <th>4</th>\n",
       "      <td>2022-06-01</td>\n",
       "      <td>5</td>\n",
       "      <td>163</td>\n",
       "    </tr>\n",
       "  </tbody>\n",
       "</table>\n",
       "</div>"
      ],
      "text/plain": [
       "        date  store  sales\n",
       "0 2022-06-01      1     67\n",
       "1 2022-06-01      2    144\n",
       "2 2022-06-01      3    226\n",
       "3 2022-06-01      4    397\n",
       "4 2022-06-01      5    163"
      ]
     },
     "execution_count": 76,
     "metadata": {},
     "output_type": "execute_result"
    }
   ],
   "source": [
    "Junesales.head()"
   ]
  },
  {
   "cell_type": "code",
   "execution_count": 77,
   "id": "7a05d95d",
   "metadata": {},
   "outputs": [
    {
     "data": {
      "text/html": [
       "<div>\n",
       "<style scoped>\n",
       "    .dataframe tbody tr th:only-of-type {\n",
       "        vertical-align: middle;\n",
       "    }\n",
       "\n",
       "    .dataframe tbody tr th {\n",
       "        vertical-align: top;\n",
       "    }\n",
       "\n",
       "    .dataframe thead th {\n",
       "        text-align: right;\n",
       "    }\n",
       "</style>\n",
       "<table border=\"1\" class=\"dataframe\">\n",
       "  <thead>\n",
       "    <tr style=\"text-align: right;\">\n",
       "      <th></th>\n",
       "      <th>store</th>\n",
       "      <th>region</th>\n",
       "    </tr>\n",
       "  </thead>\n",
       "  <tbody>\n",
       "    <tr>\n",
       "      <th>0</th>\n",
       "      <td>2</td>\n",
       "      <td>North</td>\n",
       "    </tr>\n",
       "    <tr>\n",
       "      <th>1</th>\n",
       "      <td>3</td>\n",
       "      <td>East</td>\n",
       "    </tr>\n",
       "    <tr>\n",
       "      <th>2</th>\n",
       "      <td>4</td>\n",
       "      <td>West</td>\n",
       "    </tr>\n",
       "    <tr>\n",
       "      <th>3</th>\n",
       "      <td>8</td>\n",
       "      <td>South</td>\n",
       "    </tr>\n",
       "  </tbody>\n",
       "</table>\n",
       "</div>"
      ],
      "text/plain": [
       "   store region\n",
       "0      2  North\n",
       "1      3   East\n",
       "2      4   West\n",
       "3      8  South"
      ]
     },
     "execution_count": 77,
     "metadata": {},
     "output_type": "execute_result"
    }
   ],
   "source": [
    "regions.head()"
   ]
  },
  {
   "cell_type": "code",
   "execution_count": 78,
   "id": "afe8e32d",
   "metadata": {},
   "outputs": [
    {
     "data": {
      "text/html": [
       "<div>\n",
       "<style scoped>\n",
       "    .dataframe tbody tr th:only-of-type {\n",
       "        vertical-align: middle;\n",
       "    }\n",
       "\n",
       "    .dataframe tbody tr th {\n",
       "        vertical-align: top;\n",
       "    }\n",
       "\n",
       "    .dataframe thead th {\n",
       "        text-align: right;\n",
       "    }\n",
       "</style>\n",
       "<table border=\"1\" class=\"dataframe\">\n",
       "  <thead>\n",
       "    <tr style=\"text-align: right;\">\n",
       "      <th></th>\n",
       "      <th>date</th>\n",
       "      <th>store</th>\n",
       "      <th>sales</th>\n",
       "    </tr>\n",
       "  </thead>\n",
       "  <tbody>\n",
       "    <tr>\n",
       "      <th>0</th>\n",
       "      <td>2022-05-01</td>\n",
       "      <td>1</td>\n",
       "      <td>341</td>\n",
       "    </tr>\n",
       "    <tr>\n",
       "      <th>2</th>\n",
       "      <td>2022-05-01</td>\n",
       "      <td>3</td>\n",
       "      <td>493</td>\n",
       "    </tr>\n",
       "    <tr>\n",
       "      <th>1</th>\n",
       "      <td>2022-06-01</td>\n",
       "      <td>2</td>\n",
       "      <td>144</td>\n",
       "    </tr>\n",
       "    <tr>\n",
       "      <th>0</th>\n",
       "      <td>2022-06-01</td>\n",
       "      <td>1</td>\n",
       "      <td>67</td>\n",
       "    </tr>\n",
       "    <tr>\n",
       "      <th>2</th>\n",
       "      <td>2022-06-01</td>\n",
       "      <td>3</td>\n",
       "      <td>226</td>\n",
       "    </tr>\n",
       "  </tbody>\n",
       "</table>\n",
       "</div>"
      ],
      "text/plain": [
       "        date  store  sales\n",
       "0 2022-05-01      1    341\n",
       "2 2022-05-01      3    493\n",
       "1 2022-06-01      2    144\n",
       "0 2022-06-01      1     67\n",
       "2 2022-06-01      3    226"
      ]
     },
     "execution_count": 78,
     "metadata": {},
     "output_type": "execute_result"
    }
   ],
   "source": [
    "# creating a single table using pd.concat() method\n",
    "# creating a dataFrame containing both may and june sales called data\n",
    "\n",
    "data = pd.concat([Maysales,Junesales])\n",
    "data.sample(5)"
   ]
  },
  {
   "cell_type": "markdown",
   "id": "7414eb4d",
   "metadata": {},
   "source": [
    "#### Joining\n",
    "- We use <b>.merge()</b> to join two DataFrames based on common values in a column.\n",
    "- The DataFrames must have atleast one column with matching values.\n",
    "- The general formula for merging is <b>left_df.merge(right_df,how,left_on,right_on)</b>\n",
    "     - <b>left_df</b> - represents the left dataframe to join with right\n",
    "     - <b>right_df</b> - represents the right dataframe to join with left\n",
    "     - <b>left_on</b>   - represents the column in the left dataFrame to join by\n",
    "     - <b>right_on</b>  - represents the column in the right dataFrame to join by\n",
    "- We have four types of joins :\n",
    "   - <b>how = 'inner</b> - returns records that exist in both tables, and excludes unmatched records from either tables.\n",
    "   - <b>how = 'left'</b> - returns all records from the left table and any matching records from the right table.\n",
    "   - <b>how = 'right'</b> - returns all records from the right table and any matching records form the left table.\n",
    "   - <b>how = 'outer'</b> - returns all records form both tables, including non-matching records."
   ]
  },
  {
   "cell_type": "code",
   "execution_count": 79,
   "id": "83163c5e",
   "metadata": {},
   "outputs": [
    {
     "data": {
      "text/html": [
       "<div>\n",
       "<style scoped>\n",
       "    .dataframe tbody tr th:only-of-type {\n",
       "        vertical-align: middle;\n",
       "    }\n",
       "\n",
       "    .dataframe tbody tr th {\n",
       "        vertical-align: top;\n",
       "    }\n",
       "\n",
       "    .dataframe thead th {\n",
       "        text-align: right;\n",
       "    }\n",
       "</style>\n",
       "<table border=\"1\" class=\"dataframe\">\n",
       "  <thead>\n",
       "    <tr style=\"text-align: right;\">\n",
       "      <th></th>\n",
       "      <th>date</th>\n",
       "      <th>store</th>\n",
       "      <th>sales</th>\n",
       "      <th>region</th>\n",
       "    </tr>\n",
       "  </thead>\n",
       "  <tbody>\n",
       "    <tr>\n",
       "      <th>0</th>\n",
       "      <td>2022-05-01</td>\n",
       "      <td>2</td>\n",
       "      <td>291</td>\n",
       "      <td>North</td>\n",
       "    </tr>\n",
       "    <tr>\n",
       "      <th>1</th>\n",
       "      <td>2022-05-01</td>\n",
       "      <td>3</td>\n",
       "      <td>493</td>\n",
       "      <td>East</td>\n",
       "    </tr>\n",
       "    <tr>\n",
       "      <th>2</th>\n",
       "      <td>2022-05-01</td>\n",
       "      <td>4</td>\n",
       "      <td>428</td>\n",
       "      <td>West</td>\n",
       "    </tr>\n",
       "  </tbody>\n",
       "</table>\n",
       "</div>"
      ],
      "text/plain": [
       "        date  store  sales region\n",
       "0 2022-05-01      2    291  North\n",
       "1 2022-05-01      3    493   East\n",
       "2 2022-05-01      4    428   West"
      ]
     },
     "execution_count": 79,
     "metadata": {},
     "output_type": "execute_result"
    }
   ],
   "source": [
    "# Joining two dataframes using the merge method\n",
    "\n",
    "dfIn = Maysales.merge(regions,how='inner',left_on='store',right_on='store')\n",
    "dfIn.head()"
   ]
  },
  {
   "cell_type": "code",
   "execution_count": 80,
   "id": "215ce657",
   "metadata": {},
   "outputs": [
    {
     "data": {
      "text/html": [
       "<div>\n",
       "<style scoped>\n",
       "    .dataframe tbody tr th:only-of-type {\n",
       "        vertical-align: middle;\n",
       "    }\n",
       "\n",
       "    .dataframe tbody tr th {\n",
       "        vertical-align: top;\n",
       "    }\n",
       "\n",
       "    .dataframe thead th {\n",
       "        text-align: right;\n",
       "    }\n",
       "</style>\n",
       "<table border=\"1\" class=\"dataframe\">\n",
       "  <thead>\n",
       "    <tr style=\"text-align: right;\">\n",
       "      <th></th>\n",
       "      <th>date</th>\n",
       "      <th>store</th>\n",
       "      <th>sales</th>\n",
       "      <th>region</th>\n",
       "    </tr>\n",
       "  </thead>\n",
       "  <tbody>\n",
       "    <tr>\n",
       "      <th>0</th>\n",
       "      <td>2022-05-01</td>\n",
       "      <td>2</td>\n",
       "      <td>291</td>\n",
       "      <td>North</td>\n",
       "    </tr>\n",
       "    <tr>\n",
       "      <th>1</th>\n",
       "      <td>2022-05-01</td>\n",
       "      <td>3</td>\n",
       "      <td>493</td>\n",
       "      <td>East</td>\n",
       "    </tr>\n",
       "    <tr>\n",
       "      <th>2</th>\n",
       "      <td>2022-05-01</td>\n",
       "      <td>4</td>\n",
       "      <td>428</td>\n",
       "      <td>West</td>\n",
       "    </tr>\n",
       "  </tbody>\n",
       "</table>\n",
       "</div>"
      ],
      "text/plain": [
       "        date  store  sales region\n",
       "0 2022-05-01      2    291  North\n",
       "1 2022-05-01      3    493   East\n",
       "2 2022-05-01      4    428   West"
      ]
     },
     "execution_count": 80,
     "metadata": {},
     "output_type": "execute_result"
    }
   ],
   "source": [
    "# using left join to merge the above datasets\n",
    "dfLft = Maysales.merge(regions,how='inner',left_on='store',right_on='store')\n",
    "dfLft.head()"
   ]
  },
  {
   "cell_type": "code",
   "execution_count": 81,
   "id": "5d8685ab",
   "metadata": {},
   "outputs": [
    {
     "data": {
      "text/html": [
       "<div>\n",
       "<style scoped>\n",
       "    .dataframe tbody tr th:only-of-type {\n",
       "        vertical-align: middle;\n",
       "    }\n",
       "\n",
       "    .dataframe tbody tr th {\n",
       "        vertical-align: top;\n",
       "    }\n",
       "\n",
       "    .dataframe thead th {\n",
       "        text-align: right;\n",
       "    }\n",
       "</style>\n",
       "<table border=\"1\" class=\"dataframe\">\n",
       "  <thead>\n",
       "    <tr style=\"text-align: right;\">\n",
       "      <th></th>\n",
       "      <th>date</th>\n",
       "      <th>store</th>\n",
       "      <th>sales</th>\n",
       "      <th>region</th>\n",
       "    </tr>\n",
       "  </thead>\n",
       "  <tbody>\n",
       "    <tr>\n",
       "      <th>0</th>\n",
       "      <td>2022-05-01</td>\n",
       "      <td>2</td>\n",
       "      <td>291</td>\n",
       "      <td>North</td>\n",
       "    </tr>\n",
       "    <tr>\n",
       "      <th>1</th>\n",
       "      <td>2022-05-01</td>\n",
       "      <td>3</td>\n",
       "      <td>493</td>\n",
       "      <td>East</td>\n",
       "    </tr>\n",
       "    <tr>\n",
       "      <th>2</th>\n",
       "      <td>2022-05-01</td>\n",
       "      <td>4</td>\n",
       "      <td>428</td>\n",
       "      <td>West</td>\n",
       "    </tr>\n",
       "  </tbody>\n",
       "</table>\n",
       "</div>"
      ],
      "text/plain": [
       "        date  store  sales region\n",
       "0 2022-05-01      2    291  North\n",
       "1 2022-05-01      3    493   East\n",
       "2 2022-05-01      4    428   West"
      ]
     },
     "execution_count": 81,
     "metadata": {},
     "output_type": "execute_result"
    }
   ],
   "source": [
    "# using right join to merge the above datasets\n",
    "dfRgt = Maysales.merge(regions,how='inner',left_on='store',right_on='store')\n",
    "dfRgt.head()"
   ]
  },
  {
   "cell_type": "code",
   "execution_count": 82,
   "id": "e7f50736",
   "metadata": {},
   "outputs": [
    {
     "data": {
      "text/html": [
       "<div>\n",
       "<style scoped>\n",
       "    .dataframe tbody tr th:only-of-type {\n",
       "        vertical-align: middle;\n",
       "    }\n",
       "\n",
       "    .dataframe tbody tr th {\n",
       "        vertical-align: top;\n",
       "    }\n",
       "\n",
       "    .dataframe thead th {\n",
       "        text-align: right;\n",
       "    }\n",
       "</style>\n",
       "<table border=\"1\" class=\"dataframe\">\n",
       "  <thead>\n",
       "    <tr style=\"text-align: right;\">\n",
       "      <th></th>\n",
       "      <th>date</th>\n",
       "      <th>store</th>\n",
       "      <th>sales</th>\n",
       "      <th>region</th>\n",
       "    </tr>\n",
       "  </thead>\n",
       "  <tbody>\n",
       "    <tr>\n",
       "      <th>0</th>\n",
       "      <td>2022-05-01</td>\n",
       "      <td>2</td>\n",
       "      <td>291</td>\n",
       "      <td>North</td>\n",
       "    </tr>\n",
       "    <tr>\n",
       "      <th>1</th>\n",
       "      <td>2022-05-01</td>\n",
       "      <td>3</td>\n",
       "      <td>493</td>\n",
       "      <td>East</td>\n",
       "    </tr>\n",
       "    <tr>\n",
       "      <th>2</th>\n",
       "      <td>2022-05-01</td>\n",
       "      <td>4</td>\n",
       "      <td>428</td>\n",
       "      <td>West</td>\n",
       "    </tr>\n",
       "  </tbody>\n",
       "</table>\n",
       "</div>"
      ],
      "text/plain": [
       "        date  store  sales region\n",
       "0 2022-05-01      2    291  North\n",
       "1 2022-05-01      3    493   East\n",
       "2 2022-05-01      4    428   West"
      ]
     },
     "execution_count": 82,
     "metadata": {},
     "output_type": "execute_result"
    }
   ],
   "source": [
    "# using outer join to merge the above datasets\n",
    "dfOut = Maysales.merge(regions,how='inner',left_on='store',right_on='store')\n",
    "dfOut.head()"
   ]
  },
  {
   "cell_type": "markdown",
   "id": "855268a0",
   "metadata": {},
   "source": [
    "### Preparing columns for modeling\n",
    "\n",
    "- All values should be non-null\n",
    "- All values should be numeric ie turning all numeric fields using summy variables\n",
    "- To transform a categorical field into numeric fields we use dummy method in pandas.\n",
    "- Use <b>pd.get_dummies(col)</b> to create dummy variables in python. The <b>col</b> variables represents the column you want to transform to dummies\n",
    "- To remove one of the dummy columns(doesn't matter which column is removed) we set <b>drop_first = True </b>"
   ]
  },
  {
   "cell_type": "code",
   "execution_count": 84,
   "id": "f890bef1",
   "metadata": {},
   "outputs": [
    {
     "data": {
      "text/html": [
       "<div>\n",
       "<style scoped>\n",
       "    .dataframe tbody tr th:only-of-type {\n",
       "        vertical-align: middle;\n",
       "    }\n",
       "\n",
       "    .dataframe tbody tr th {\n",
       "        vertical-align: top;\n",
       "    }\n",
       "\n",
       "    .dataframe thead th {\n",
       "        text-align: right;\n",
       "    }\n",
       "</style>\n",
       "<table border=\"1\" class=\"dataframe\">\n",
       "  <thead>\n",
       "    <tr style=\"text-align: right;\">\n",
       "      <th></th>\n",
       "      <th>EDA</th>\n",
       "      <th>Exploratory Data Analysis</th>\n",
       "      <th>Freshman Seminar</th>\n",
       "      <th>Intro to Python</th>\n",
       "      <th>Intro to SQL</th>\n",
       "      <th>Python</th>\n",
       "    </tr>\n",
       "  </thead>\n",
       "  <tbody>\n",
       "    <tr>\n",
       "      <th>0</th>\n",
       "      <td>0</td>\n",
       "      <td>0</td>\n",
       "      <td>1</td>\n",
       "      <td>0</td>\n",
       "      <td>0</td>\n",
       "      <td>0</td>\n",
       "    </tr>\n",
       "    <tr>\n",
       "      <th>1</th>\n",
       "      <td>0</td>\n",
       "      <td>0</td>\n",
       "      <td>1</td>\n",
       "      <td>0</td>\n",
       "      <td>0</td>\n",
       "      <td>0</td>\n",
       "    </tr>\n",
       "    <tr>\n",
       "      <th>2</th>\n",
       "      <td>0</td>\n",
       "      <td>0</td>\n",
       "      <td>1</td>\n",
       "      <td>0</td>\n",
       "      <td>0</td>\n",
       "      <td>0</td>\n",
       "    </tr>\n",
       "    <tr>\n",
       "      <th>3</th>\n",
       "      <td>0</td>\n",
       "      <td>0</td>\n",
       "      <td>1</td>\n",
       "      <td>0</td>\n",
       "      <td>0</td>\n",
       "      <td>0</td>\n",
       "    </tr>\n",
       "    <tr>\n",
       "      <th>4</th>\n",
       "      <td>0</td>\n",
       "      <td>0</td>\n",
       "      <td>1</td>\n",
       "      <td>0</td>\n",
       "      <td>0</td>\n",
       "      <td>0</td>\n",
       "    </tr>\n",
       "    <tr>\n",
       "      <th>...</th>\n",
       "      <td>...</td>\n",
       "      <td>...</td>\n",
       "      <td>...</td>\n",
       "      <td>...</td>\n",
       "      <td>...</td>\n",
       "      <td>...</td>\n",
       "    </tr>\n",
       "    <tr>\n",
       "      <th>81</th>\n",
       "      <td>0</td>\n",
       "      <td>0</td>\n",
       "      <td>1</td>\n",
       "      <td>0</td>\n",
       "      <td>0</td>\n",
       "      <td>0</td>\n",
       "    </tr>\n",
       "    <tr>\n",
       "      <th>82</th>\n",
       "      <td>0</td>\n",
       "      <td>0</td>\n",
       "      <td>1</td>\n",
       "      <td>0</td>\n",
       "      <td>0</td>\n",
       "      <td>0</td>\n",
       "    </tr>\n",
       "    <tr>\n",
       "      <th>83</th>\n",
       "      <td>1</td>\n",
       "      <td>0</td>\n",
       "      <td>0</td>\n",
       "      <td>0</td>\n",
       "      <td>0</td>\n",
       "      <td>0</td>\n",
       "    </tr>\n",
       "    <tr>\n",
       "      <th>84</th>\n",
       "      <td>1</td>\n",
       "      <td>0</td>\n",
       "      <td>0</td>\n",
       "      <td>0</td>\n",
       "      <td>0</td>\n",
       "      <td>0</td>\n",
       "    </tr>\n",
       "    <tr>\n",
       "      <th>85</th>\n",
       "      <td>0</td>\n",
       "      <td>0</td>\n",
       "      <td>1</td>\n",
       "      <td>0</td>\n",
       "      <td>0</td>\n",
       "      <td>0</td>\n",
       "    </tr>\n",
       "  </tbody>\n",
       "</table>\n",
       "<p>86 rows × 6 columns</p>\n",
       "</div>"
      ],
      "text/plain": [
       "    EDA  Exploratory Data Analysis  Freshman Seminar  Intro to Python  \\\n",
       "0     0                          0                 1                0   \n",
       "1     0                          0                 1                0   \n",
       "2     0                          0                 1                0   \n",
       "3     0                          0                 1                0   \n",
       "4     0                          0                 1                0   \n",
       "..  ...                        ...               ...              ...   \n",
       "81    0                          0                 1                0   \n",
       "82    0                          0                 1                0   \n",
       "83    1                          0                 0                0   \n",
       "84    1                          0                 0                0   \n",
       "85    0                          0                 1                0   \n",
       "\n",
       "    Intro to SQL  Python  \n",
       "0              0       0  \n",
       "1              0       0  \n",
       "2              0       0  \n",
       "3              0       0  \n",
       "4              0       0  \n",
       "..           ...     ...  \n",
       "81             0       0  \n",
       "82             0       0  \n",
       "83             0       0  \n",
       "84             0       0  \n",
       "85             0       0  \n",
       "\n",
       "[86 rows x 6 columns]"
      ]
     },
     "execution_count": 84,
     "metadata": {},
     "output_type": "execute_result"
    }
   ],
   "source": [
    "# Transforming our class column in students dataset into dummies\n",
    "# 0 - represent the absence of a value\n",
    "# 1 - represent the presence of a value\n",
    "\n",
    "pd.get_dummies(students.Class)"
   ]
  },
  {
   "cell_type": "code",
   "execution_count": 85,
   "id": "b89ef532",
   "metadata": {},
   "outputs": [
    {
     "data": {
      "text/html": [
       "<div>\n",
       "<style scoped>\n",
       "    .dataframe tbody tr th:only-of-type {\n",
       "        vertical-align: middle;\n",
       "    }\n",
       "\n",
       "    .dataframe tbody tr th {\n",
       "        vertical-align: top;\n",
       "    }\n",
       "\n",
       "    .dataframe thead th {\n",
       "        text-align: right;\n",
       "    }\n",
       "</style>\n",
       "<table border=\"1\" class=\"dataframe\">\n",
       "  <thead>\n",
       "    <tr style=\"text-align: right;\">\n",
       "      <th></th>\n",
       "      <th>Exploratory Data Analysis</th>\n",
       "      <th>Freshman Seminar</th>\n",
       "      <th>Intro to Python</th>\n",
       "      <th>Intro to SQL</th>\n",
       "      <th>Python</th>\n",
       "    </tr>\n",
       "  </thead>\n",
       "  <tbody>\n",
       "    <tr>\n",
       "      <th>0</th>\n",
       "      <td>0</td>\n",
       "      <td>1</td>\n",
       "      <td>0</td>\n",
       "      <td>0</td>\n",
       "      <td>0</td>\n",
       "    </tr>\n",
       "    <tr>\n",
       "      <th>1</th>\n",
       "      <td>0</td>\n",
       "      <td>1</td>\n",
       "      <td>0</td>\n",
       "      <td>0</td>\n",
       "      <td>0</td>\n",
       "    </tr>\n",
       "    <tr>\n",
       "      <th>2</th>\n",
       "      <td>0</td>\n",
       "      <td>1</td>\n",
       "      <td>0</td>\n",
       "      <td>0</td>\n",
       "      <td>0</td>\n",
       "    </tr>\n",
       "    <tr>\n",
       "      <th>3</th>\n",
       "      <td>0</td>\n",
       "      <td>1</td>\n",
       "      <td>0</td>\n",
       "      <td>0</td>\n",
       "      <td>0</td>\n",
       "    </tr>\n",
       "    <tr>\n",
       "      <th>4</th>\n",
       "      <td>0</td>\n",
       "      <td>1</td>\n",
       "      <td>0</td>\n",
       "      <td>0</td>\n",
       "      <td>0</td>\n",
       "    </tr>\n",
       "    <tr>\n",
       "      <th>...</th>\n",
       "      <td>...</td>\n",
       "      <td>...</td>\n",
       "      <td>...</td>\n",
       "      <td>...</td>\n",
       "      <td>...</td>\n",
       "    </tr>\n",
       "    <tr>\n",
       "      <th>81</th>\n",
       "      <td>0</td>\n",
       "      <td>1</td>\n",
       "      <td>0</td>\n",
       "      <td>0</td>\n",
       "      <td>0</td>\n",
       "    </tr>\n",
       "    <tr>\n",
       "      <th>82</th>\n",
       "      <td>0</td>\n",
       "      <td>1</td>\n",
       "      <td>0</td>\n",
       "      <td>0</td>\n",
       "      <td>0</td>\n",
       "    </tr>\n",
       "    <tr>\n",
       "      <th>83</th>\n",
       "      <td>0</td>\n",
       "      <td>0</td>\n",
       "      <td>0</td>\n",
       "      <td>0</td>\n",
       "      <td>0</td>\n",
       "    </tr>\n",
       "    <tr>\n",
       "      <th>84</th>\n",
       "      <td>0</td>\n",
       "      <td>0</td>\n",
       "      <td>0</td>\n",
       "      <td>0</td>\n",
       "      <td>0</td>\n",
       "    </tr>\n",
       "    <tr>\n",
       "      <th>85</th>\n",
       "      <td>0</td>\n",
       "      <td>1</td>\n",
       "      <td>0</td>\n",
       "      <td>0</td>\n",
       "      <td>0</td>\n",
       "    </tr>\n",
       "  </tbody>\n",
       "</table>\n",
       "<p>86 rows × 5 columns</p>\n",
       "</div>"
      ],
      "text/plain": [
       "    Exploratory Data Analysis  Freshman Seminar  Intro to Python  \\\n",
       "0                           0                 1                0   \n",
       "1                           0                 1                0   \n",
       "2                           0                 1                0   \n",
       "3                           0                 1                0   \n",
       "4                           0                 1                0   \n",
       "..                        ...               ...              ...   \n",
       "81                          0                 1                0   \n",
       "82                          0                 1                0   \n",
       "83                          0                 0                0   \n",
       "84                          0                 0                0   \n",
       "85                          0                 1                0   \n",
       "\n",
       "    Intro to SQL  Python  \n",
       "0              0       0  \n",
       "1              0       0  \n",
       "2              0       0  \n",
       "3              0       0  \n",
       "4              0       0  \n",
       "..           ...     ...  \n",
       "81             0       0  \n",
       "82             0       0  \n",
       "83             0       0  \n",
       "84             0       0  \n",
       "85             0       0  \n",
       "\n",
       "[86 rows x 5 columns]"
      ]
     },
     "execution_count": 85,
     "metadata": {},
     "output_type": "execute_result"
    }
   ],
   "source": [
    "# setting the drop_first = true for our above code\n",
    "# it has removed the EDA colum\n",
    "\n",
    "pd.get_dummies(students.Class,drop_first = True)"
   ]
  },
  {
   "cell_type": "markdown",
   "id": "d6d7e478",
   "metadata": {},
   "source": [
    "### Features Engineering\n",
    "- Feature engineering is the process of creating columns that you think will be helpful inputs for a machine learning model.\n",
    "- Preparing rows and columns for modeling is also part of feature engineering.\n",
    "- Other feature engineering techniques include :\n",
    "    - Transformations(log transforms)\n",
    "    - Scaling (normalization and standardization)\n",
    "    - Proxy variables"
   ]
  },
  {
   "cell_type": "markdown",
   "id": "fbf93e8a",
   "metadata": {},
   "source": [
    "# Conclusion\n",
    "\n",
    "<b>\n",
    " NOTE :\n",
    "- The whole process may not apply to all datasets so its advisable to use your domain expertise to apply the necessary techniques on your datasets to get the desired results. </b>"
   ]
  },
  {
   "cell_type": "code",
   "execution_count": null,
   "id": "fd3866af",
   "metadata": {},
   "outputs": [],
   "source": []
  }
 ],
 "metadata": {
  "kernelspec": {
   "display_name": "Python 3 (ipykernel)",
   "language": "python",
   "name": "python3"
  },
  "language_info": {
   "codemirror_mode": {
    "name": "ipython",
    "version": 3
   },
   "file_extension": ".py",
   "mimetype": "text/x-python",
   "name": "python",
   "nbconvert_exporter": "python",
   "pygments_lexer": "ipython3",
   "version": "3.10.9"
  }
 },
 "nbformat": 4,
 "nbformat_minor": 5
}
